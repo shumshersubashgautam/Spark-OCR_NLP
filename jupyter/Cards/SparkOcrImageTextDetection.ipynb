{
 "cells": [
  {
   "cell_type": "markdown",
   "id": "30dbdb5b",
   "metadata": {
    "id": "30dbdb5b"
   },
   "source": [
    "![JohnSnowLabs](https://nlp.johnsnowlabs.com/assets/images/logo.png)"
   ]
  },
  {
   "cell_type": "markdown",
   "id": "c35d3d0d",
   "metadata": {
    "id": "c35d3d0d"
   },
   "source": [
    "[![Open In Colab](https://colab.research.google.com/assets/colab-badge.svg)](https://colab.research.google.com/github/JohnSnowLabs/spark-ocr-workshop/blob/master/jupyter/Cards/SparkOcrImageTextDetection.ipynb)"
   ]
  },
  {
   "cell_type": "markdown",
   "id": "b6aabafc",
   "metadata": {
    "id": "b6aabafc"
   },
   "source": [
    "## Blogposts and videos\n",
    "\n",
    "- [Text Detection in Spark OCR](https://medium.com/spark-nlp/text-detection-in-spark-ocr-dcd8002bdc97)\n",
    "\n",
    "- [Table Detection & Extraction in Spark OCR](https://medium.com/spark-nlp/table-detection-extraction-in-spark-ocr-50765c6cedc9)\n",
    "\n",
    "- [Extract Tabular Data from PDF in Spark OCR](https://medium.com/spark-nlp/extract-tabular-data-from-pdf-in-spark-ocr-b02136bc0fcb)\n",
    "\n",
    "- [Signature Detection in Spark OCR](https://medium.com/spark-nlp/signature-detection-in-spark-ocr-32f9e6f91e3c)\n",
    "\n",
    "- [GPU image pre-processing in Spark OCR](https://medium.com/spark-nlp/gpu-image-pre-processing-in-spark-ocr-3-1-0-6fc27560a9bb)\n",
    "\n",
    "- [How to Setup Spark OCR on UBUNTU - Video](https://www.youtube.com/watch?v=cmt4WIcL0nI)\n",
    "\n",
    "\n",
    "**More examples here**\n",
    "\n",
    "https://github.com/JohnSnowLabs/spark-ocr-workshop"
   ]
  },
  {
   "cell_type": "code",
   "execution_count": 1,
   "id": "04622536",
   "metadata": {
    "colab": {
     "base_uri": "https://localhost:8080/",
     "height": 73
    },
    "id": "04622536",
    "executionInfo": {
     "status": "ok",
     "timestamp": 1672052177159,
     "user_tz": -60,
     "elapsed": 5641,
     "user": {
      "displayName": "Aymane Chilah",
      "userId": "03881241080678771864"
     }
    },
    "outputId": "b7ea3ef7-2b0b-4e9d-efa8-564045594468"
   },
   "outputs": [
    {
     "output_type": "display_data",
     "data": {
      "text/plain": [
       "<IPython.core.display.HTML object>"
      ],
      "text/html": [
       "\n",
       "     <input type=\"file\" id=\"files-754ec288-20ea-4187-bc64-61faa0cbc1a6\" name=\"files[]\" multiple disabled\n",
       "        style=\"border:none\" />\n",
       "     <output id=\"result-754ec288-20ea-4187-bc64-61faa0cbc1a6\">\n",
       "      Upload widget is only available when the cell has been executed in the\n",
       "      current browser session. Please rerun this cell to enable.\n",
       "      </output>\n",
       "      <script>// Copyright 2017 Google LLC\n",
       "//\n",
       "// Licensed under the Apache License, Version 2.0 (the \"License\");\n",
       "// you may not use this file except in compliance with the License.\n",
       "// You may obtain a copy of the License at\n",
       "//\n",
       "//      http://www.apache.org/licenses/LICENSE-2.0\n",
       "//\n",
       "// Unless required by applicable law or agreed to in writing, software\n",
       "// distributed under the License is distributed on an \"AS IS\" BASIS,\n",
       "// WITHOUT WARRANTIES OR CONDITIONS OF ANY KIND, either express or implied.\n",
       "// See the License for the specific language governing permissions and\n",
       "// limitations under the License.\n",
       "\n",
       "/**\n",
       " * @fileoverview Helpers for google.colab Python module.\n",
       " */\n",
       "(function(scope) {\n",
       "function span(text, styleAttributes = {}) {\n",
       "  const element = document.createElement('span');\n",
       "  element.textContent = text;\n",
       "  for (const key of Object.keys(styleAttributes)) {\n",
       "    element.style[key] = styleAttributes[key];\n",
       "  }\n",
       "  return element;\n",
       "}\n",
       "\n",
       "// Max number of bytes which will be uploaded at a time.\n",
       "const MAX_PAYLOAD_SIZE = 100 * 1024;\n",
       "\n",
       "function _uploadFiles(inputId, outputId) {\n",
       "  const steps = uploadFilesStep(inputId, outputId);\n",
       "  const outputElement = document.getElementById(outputId);\n",
       "  // Cache steps on the outputElement to make it available for the next call\n",
       "  // to uploadFilesContinue from Python.\n",
       "  outputElement.steps = steps;\n",
       "\n",
       "  return _uploadFilesContinue(outputId);\n",
       "}\n",
       "\n",
       "// This is roughly an async generator (not supported in the browser yet),\n",
       "// where there are multiple asynchronous steps and the Python side is going\n",
       "// to poll for completion of each step.\n",
       "// This uses a Promise to block the python side on completion of each step,\n",
       "// then passes the result of the previous step as the input to the next step.\n",
       "function _uploadFilesContinue(outputId) {\n",
       "  const outputElement = document.getElementById(outputId);\n",
       "  const steps = outputElement.steps;\n",
       "\n",
       "  const next = steps.next(outputElement.lastPromiseValue);\n",
       "  return Promise.resolve(next.value.promise).then((value) => {\n",
       "    // Cache the last promise value to make it available to the next\n",
       "    // step of the generator.\n",
       "    outputElement.lastPromiseValue = value;\n",
       "    return next.value.response;\n",
       "  });\n",
       "}\n",
       "\n",
       "/**\n",
       " * Generator function which is called between each async step of the upload\n",
       " * process.\n",
       " * @param {string} inputId Element ID of the input file picker element.\n",
       " * @param {string} outputId Element ID of the output display.\n",
       " * @return {!Iterable<!Object>} Iterable of next steps.\n",
       " */\n",
       "function* uploadFilesStep(inputId, outputId) {\n",
       "  const inputElement = document.getElementById(inputId);\n",
       "  inputElement.disabled = false;\n",
       "\n",
       "  const outputElement = document.getElementById(outputId);\n",
       "  outputElement.innerHTML = '';\n",
       "\n",
       "  const pickedPromise = new Promise((resolve) => {\n",
       "    inputElement.addEventListener('change', (e) => {\n",
       "      resolve(e.target.files);\n",
       "    });\n",
       "  });\n",
       "\n",
       "  const cancel = document.createElement('button');\n",
       "  inputElement.parentElement.appendChild(cancel);\n",
       "  cancel.textContent = 'Cancel upload';\n",
       "  const cancelPromise = new Promise((resolve) => {\n",
       "    cancel.onclick = () => {\n",
       "      resolve(null);\n",
       "    };\n",
       "  });\n",
       "\n",
       "  // Wait for the user to pick the files.\n",
       "  const files = yield {\n",
       "    promise: Promise.race([pickedPromise, cancelPromise]),\n",
       "    response: {\n",
       "      action: 'starting',\n",
       "    }\n",
       "  };\n",
       "\n",
       "  cancel.remove();\n",
       "\n",
       "  // Disable the input element since further picks are not allowed.\n",
       "  inputElement.disabled = true;\n",
       "\n",
       "  if (!files) {\n",
       "    return {\n",
       "      response: {\n",
       "        action: 'complete',\n",
       "      }\n",
       "    };\n",
       "  }\n",
       "\n",
       "  for (const file of files) {\n",
       "    const li = document.createElement('li');\n",
       "    li.append(span(file.name, {fontWeight: 'bold'}));\n",
       "    li.append(span(\n",
       "        `(${file.type || 'n/a'}) - ${file.size} bytes, ` +\n",
       "        `last modified: ${\n",
       "            file.lastModifiedDate ? file.lastModifiedDate.toLocaleDateString() :\n",
       "                                    'n/a'} - `));\n",
       "    const percent = span('0% done');\n",
       "    li.appendChild(percent);\n",
       "\n",
       "    outputElement.appendChild(li);\n",
       "\n",
       "    const fileDataPromise = new Promise((resolve) => {\n",
       "      const reader = new FileReader();\n",
       "      reader.onload = (e) => {\n",
       "        resolve(e.target.result);\n",
       "      };\n",
       "      reader.readAsArrayBuffer(file);\n",
       "    });\n",
       "    // Wait for the data to be ready.\n",
       "    let fileData = yield {\n",
       "      promise: fileDataPromise,\n",
       "      response: {\n",
       "        action: 'continue',\n",
       "      }\n",
       "    };\n",
       "\n",
       "    // Use a chunked sending to avoid message size limits. See b/62115660.\n",
       "    let position = 0;\n",
       "    do {\n",
       "      const length = Math.min(fileData.byteLength - position, MAX_PAYLOAD_SIZE);\n",
       "      const chunk = new Uint8Array(fileData, position, length);\n",
       "      position += length;\n",
       "\n",
       "      const base64 = btoa(String.fromCharCode.apply(null, chunk));\n",
       "      yield {\n",
       "        response: {\n",
       "          action: 'append',\n",
       "          file: file.name,\n",
       "          data: base64,\n",
       "        },\n",
       "      };\n",
       "\n",
       "      let percentDone = fileData.byteLength === 0 ?\n",
       "          100 :\n",
       "          Math.round((position / fileData.byteLength) * 100);\n",
       "      percent.textContent = `${percentDone}% done`;\n",
       "\n",
       "    } while (position < fileData.byteLength);\n",
       "  }\n",
       "\n",
       "  // All done.\n",
       "  yield {\n",
       "    response: {\n",
       "      action: 'complete',\n",
       "    }\n",
       "  };\n",
       "}\n",
       "\n",
       "scope.google = scope.google || {};\n",
       "scope.google.colab = scope.google.colab || {};\n",
       "scope.google.colab._files = {\n",
       "  _uploadFiles,\n",
       "  _uploadFilesContinue,\n",
       "};\n",
       "})(self);\n",
       "</script> "
      ]
     },
     "metadata": {}
    },
    {
     "output_type": "stream",
     "name": "stdout",
     "text": [
      "Saving spark-license-v410.json to spark-license-v410.json\n"
     ]
    }
   ],
   "source": [
    "import json, os\n",
    "import sys\n",
    "\n",
    "if 'google.colab' in sys.modules:\n",
    "    from google.colab import files\n",
    "\n",
    "    if 'spark_ocr.json' not in os.listdir():\n",
    "      license_keys = files.upload()\n",
    "      os.rename(list(license_keys.keys())[0], 'spark_ocr.json')\n",
    "\n",
    "with open('spark_ocr.json') as f:\n",
    "    license_keys = json.load(f)\n",
    "\n",
    "# Defining license key-value pairs as local variables\n",
    "locals().update(license_keys)"
   ]
  },
  {
   "cell_type": "code",
   "execution_count": 2,
   "id": "de09534f",
   "metadata": {
    "colab": {
     "base_uri": "https://localhost:8080/",
     "height": 1000
    },
    "id": "de09534f",
    "executionInfo": {
     "status": "ok",
     "timestamp": 1672052252031,
     "user_tz": -60,
     "elapsed": 73391,
     "user": {
      "displayName": "Aymane Chilah",
      "userId": "03881241080678771864"
     }
    },
    "outputId": "b984753f-7420-4b33-9b20-17204a6b639d"
   },
   "outputs": [
    {
     "output_type": "stream",
     "name": "stdout",
     "text": [
      "\u001B[K     |████████████████████████████████| 281.4 MB 38 kB/s \n",
      "\u001B[K     |████████████████████████████████| 616 kB 65.5 MB/s \n",
      "\u001B[K     |████████████████████████████████| 198 kB 75.1 MB/s \n",
      "\u001B[?25h  Building wheel for pyspark (setup.py) ... \u001B[?25l\u001B[?25hdone\n",
      "Looking in indexes: https://pypi.org/simple, https://us-python.pkg.dev/colab-wheels/public/simple/, https://pypi.johnsnowlabs.com/4.1.0-52f8e0a3b8cf4b1b63c864d38b2851b1f5484f25\n",
      "Collecting spark-ocr==4.1.0\n",
      "  Downloading https://pypi.johnsnowlabs.com/4.1.0-52f8e0a3b8cf4b1b63c864d38b2851b1f5484f25/spark-ocr/spark_ocr-4.1.0-py3-none-any.whl (30.8 MB)\n",
      "\u001B[K     |████████████████████████████████| 30.8 MB 1.2 MB/s \n",
      "\u001B[?25hRequirement already satisfied: numpy==1.21.6 in /usr/local/lib/python3.8/dist-packages (from spark-ocr==4.1.0) (1.21.6)\n",
      "Requirement already satisfied: spark-nlp==4.1.0 in /usr/local/lib/python3.8/dist-packages (from spark-ocr==4.1.0) (4.1.0)\n",
      "Collecting implicits==1.0.2\n",
      "  Downloading implicits-1.0.2-py3-none-any.whl (3.7 kB)\n",
      "Collecting pillow==9.0.1\n",
      "  Downloading Pillow-9.0.1-cp38-cp38-manylinux_2_17_x86_64.manylinux2014_x86_64.whl (4.3 MB)\n",
      "\u001B[K     |████████████████████████████████| 4.3 MB 4.6 MB/s \n",
      "\u001B[?25hCollecting craft-text-detector==0.4.2\n",
      "  Downloading craft_text_detector-0.4.2-py3-none-any.whl (18 kB)\n",
      "Collecting scikit-image==0.18.1\n",
      "  Downloading scikit_image-0.18.1-cp38-cp38-manylinux1_x86_64.whl (30.2 MB)\n",
      "\u001B[K     |████████████████████████████████| 30.2 MB 64.0 MB/s \n",
      "\u001B[?25hRequirement already satisfied: pyspark==3.2.1 in /usr/local/lib/python3.8/dist-packages (from spark-ocr==4.1.0) (3.2.1)\n",
      "Requirement already satisfied: py4j>=0.10.9.3 in /usr/local/lib/python3.8/dist-packages (from spark-ocr==4.1.0) (0.10.9.3)\n",
      "Requirement already satisfied: scipy>=1.3.2 in /usr/local/lib/python3.8/dist-packages (from craft-text-detector==0.4.2->spark-ocr==4.1.0) (1.7.3)\n",
      "Collecting opencv-python<4.5.4.62,>=3.4.8.29\n",
      "  Downloading opencv_python-4.5.4.60-cp38-cp38-manylinux_2_17_x86_64.manylinux2014_x86_64.whl (60.3 MB)\n",
      "\u001B[K     |████████████████████████████████| 60.3 MB 1.2 MB/s \n",
      "\u001B[?25hRequirement already satisfied: gdown>=3.10.1 in /usr/local/lib/python3.8/dist-packages (from craft-text-detector==0.4.2->spark-ocr==4.1.0) (4.4.0)\n",
      "Requirement already satisfied: torch>=1.6.0 in /usr/local/lib/python3.8/dist-packages (from craft-text-detector==0.4.2->spark-ocr==4.1.0) (1.13.0+cu116)\n",
      "Requirement already satisfied: torchvision>=0.7.0 in /usr/local/lib/python3.8/dist-packages (from craft-text-detector==0.4.2->spark-ocr==4.1.0) (0.14.0+cu116)\n",
      "Requirement already satisfied: PyWavelets>=1.1.1 in /usr/local/lib/python3.8/dist-packages (from scikit-image==0.18.1->spark-ocr==4.1.0) (1.4.1)\n",
      "Requirement already satisfied: networkx>=2.0 in /usr/local/lib/python3.8/dist-packages (from scikit-image==0.18.1->spark-ocr==4.1.0) (2.8.8)\n",
      "Requirement already satisfied: imageio>=2.3.0 in /usr/local/lib/python3.8/dist-packages (from scikit-image==0.18.1->spark-ocr==4.1.0) (2.9.0)\n",
      "Requirement already satisfied: tifffile>=2019.7.26 in /usr/local/lib/python3.8/dist-packages (from scikit-image==0.18.1->spark-ocr==4.1.0) (2022.10.10)\n",
      "Requirement already satisfied: matplotlib!=3.0.0,>=2.0.0 in /usr/local/lib/python3.8/dist-packages (from scikit-image==0.18.1->spark-ocr==4.1.0) (3.2.2)\n",
      "Requirement already satisfied: six in /usr/local/lib/python3.8/dist-packages (from gdown>=3.10.1->craft-text-detector==0.4.2->spark-ocr==4.1.0) (1.15.0)\n",
      "Requirement already satisfied: tqdm in /usr/local/lib/python3.8/dist-packages (from gdown>=3.10.1->craft-text-detector==0.4.2->spark-ocr==4.1.0) (4.64.1)\n",
      "Requirement already satisfied: filelock in /usr/local/lib/python3.8/dist-packages (from gdown>=3.10.1->craft-text-detector==0.4.2->spark-ocr==4.1.0) (3.8.2)\n",
      "Requirement already satisfied: requests[socks] in /usr/local/lib/python3.8/dist-packages (from gdown>=3.10.1->craft-text-detector==0.4.2->spark-ocr==4.1.0) (2.23.0)\n",
      "Requirement already satisfied: beautifulsoup4 in /usr/local/lib/python3.8/dist-packages (from gdown>=3.10.1->craft-text-detector==0.4.2->spark-ocr==4.1.0) (4.6.3)\n",
      "Requirement already satisfied: cycler>=0.10 in /usr/local/lib/python3.8/dist-packages (from matplotlib!=3.0.0,>=2.0.0->scikit-image==0.18.1->spark-ocr==4.1.0) (0.11.0)\n",
      "Requirement already satisfied: pyparsing!=2.0.4,!=2.1.2,!=2.1.6,>=2.0.1 in /usr/local/lib/python3.8/dist-packages (from matplotlib!=3.0.0,>=2.0.0->scikit-image==0.18.1->spark-ocr==4.1.0) (3.0.9)\n",
      "Requirement already satisfied: python-dateutil>=2.1 in /usr/local/lib/python3.8/dist-packages (from matplotlib!=3.0.0,>=2.0.0->scikit-image==0.18.1->spark-ocr==4.1.0) (2.8.2)\n",
      "Requirement already satisfied: kiwisolver>=1.0.1 in /usr/local/lib/python3.8/dist-packages (from matplotlib!=3.0.0,>=2.0.0->scikit-image==0.18.1->spark-ocr==4.1.0) (1.4.4)\n",
      "Requirement already satisfied: typing-extensions in /usr/local/lib/python3.8/dist-packages (from torch>=1.6.0->craft-text-detector==0.4.2->spark-ocr==4.1.0) (4.4.0)\n",
      "Requirement already satisfied: idna<3,>=2.5 in /usr/local/lib/python3.8/dist-packages (from requests[socks]->gdown>=3.10.1->craft-text-detector==0.4.2->spark-ocr==4.1.0) (2.10)\n",
      "Requirement already satisfied: certifi>=2017.4.17 in /usr/local/lib/python3.8/dist-packages (from requests[socks]->gdown>=3.10.1->craft-text-detector==0.4.2->spark-ocr==4.1.0) (2022.12.7)\n",
      "Requirement already satisfied: chardet<4,>=3.0.2 in /usr/local/lib/python3.8/dist-packages (from requests[socks]->gdown>=3.10.1->craft-text-detector==0.4.2->spark-ocr==4.1.0) (3.0.4)\n",
      "Requirement already satisfied: urllib3!=1.25.0,!=1.25.1,<1.26,>=1.21.1 in /usr/local/lib/python3.8/dist-packages (from requests[socks]->gdown>=3.10.1->craft-text-detector==0.4.2->spark-ocr==4.1.0) (1.24.3)\n",
      "Requirement already satisfied: PySocks!=1.5.7,>=1.5.6 in /usr/local/lib/python3.8/dist-packages (from requests[socks]->gdown>=3.10.1->craft-text-detector==0.4.2->spark-ocr==4.1.0) (1.7.1)\n",
      "Installing collected packages: pillow, opencv-python, scikit-image, implicits, craft-text-detector, spark-ocr\n",
      "  Attempting uninstall: pillow\n",
      "    Found existing installation: Pillow 7.1.2\n",
      "    Uninstalling Pillow-7.1.2:\n",
      "      Successfully uninstalled Pillow-7.1.2\n",
      "  Attempting uninstall: opencv-python\n",
      "    Found existing installation: opencv-python 4.6.0.66\n",
      "    Uninstalling opencv-python-4.6.0.66:\n",
      "      Successfully uninstalled opencv-python-4.6.0.66\n",
      "  Attempting uninstall: scikit-image\n",
      "    Found existing installation: scikit-image 0.18.3\n",
      "    Uninstalling scikit-image-0.18.3:\n",
      "      Successfully uninstalled scikit-image-0.18.3\n",
      "Successfully installed craft-text-detector-0.4.2 implicits-1.0.2 opencv-python-4.5.4.60 pillow-9.0.1 scikit-image-0.18.1 spark-ocr-4.1.0\n"
     ]
    },
    {
     "output_type": "display_data",
     "data": {
      "application/vnd.colab-display-data+json": {
       "pip_warning": {
        "packages": [
         "PIL"
        ]
       }
      }
     },
     "metadata": {}
    }
   ],
   "source": [
    "# Installing pyspark and spark-nlp\n",
    "%pip install --upgrade -q pyspark==3.2.1 spark-nlp==$PUBLIC_VERSION\n",
    "\n",
    "# Installing Spark OCR\n",
    "#! pip uninstall spark-ocr -Y\n",
    "%pip install spark-ocr==$OCR_VERSION --extra-index-url=https://pypi.johnsnowlabs.com/$SPARK_OCR_SECRET --upgrade"
   ]
  },
  {
   "cell_type": "markdown",
   "id": "4a49a452",
   "metadata": {
    "id": "4a49a452"
   },
   "source": [
    "<b><h1><font color='darkred'>!!! ATTENTION !!! </font><h1><b>\n",
    "\n",
    "<b>After running previous cell, <font color='darkred'>RESTART the COLAB RUNTIME </font> and go ahead.<b>"
   ]
  },
  {
   "cell_type": "code",
   "execution_count": 1,
   "id": "c18e6e1c",
   "metadata": {
    "id": "c18e6e1c",
    "executionInfo": {
     "status": "ok",
     "timestamp": 1672052316842,
     "user_tz": -60,
     "elapsed": 358,
     "user": {
      "displayName": "Aymane Chilah",
      "userId": "03881241080678771864"
     }
    }
   },
   "outputs": [],
   "source": [
    "import json, os\n",
    "\n",
    "with open(\"spark_ocr.json\", 'r') as f:\n",
    "  license_keys = json.load(f)\n",
    "\n",
    "# Adding license key-value pairs to environment variables\n",
    "os.environ.update(license_keys)\n",
    "\n",
    "# Defining license key-value pairs as local variables\n",
    "locals().update(license_keys)"
   ]
  },
  {
   "cell_type": "code",
   "execution_count": 2,
   "id": "4754e964",
   "metadata": {
    "id": "4754e964",
    "executionInfo": {
     "status": "ok",
     "timestamp": 1672052323239,
     "user_tz": -60,
     "elapsed": 6400,
     "user": {
      "displayName": "Aymane Chilah",
      "userId": "03881241080678771864"
     }
    }
   },
   "outputs": [],
   "source": [
    "import pkg_resources\n",
    "\n",
    "from pyspark.ml import PipelineModel\n",
    "import pyspark.sql.functions as f\n",
    "\n",
    "from sparkocr import start\n",
    "from sparkocr.transformers import *\n",
    "from sparkocr.enums import *\n",
    "from sparkocr.utils import *\n",
    "from sparkocr.metrics import score"
   ]
  },
  {
   "cell_type": "code",
   "execution_count": 3,
   "id": "00b75d2a",
   "metadata": {
    "colab": {
     "base_uri": "https://localhost:8080/"
    },
    "id": "00b75d2a",
    "executionInfo": {
     "status": "ok",
     "timestamp": 1672052363067,
     "user_tz": -60,
     "elapsed": 39831,
     "user": {
      "displayName": "Aymane Chilah",
      "userId": "03881241080678771864"
     }
    },
    "outputId": "13a8e1b5-3f36-4417-f3b1-2a32dd0ac57a"
   },
   "outputs": [
    {
     "output_type": "stream",
     "name": "stdout",
     "text": [
      "Spark version: 3.2.1\n",
      "Spark NLP version: 4.1.0\n",
      "Spark OCR version: 4.1.0\n",
      "\n"
     ]
    }
   ],
   "source": [
    "# Start spark\n",
    "spark = start(secret=SPARK_OCR_SECRET, nlp_version=PUBLIC_VERSION)"
   ]
  },
  {
   "cell_type": "markdown",
   "id": "2d5e6e29",
   "metadata": {
    "id": "2d5e6e29"
   },
   "source": [
    "# Read image and display it"
   ]
  },
  {
   "cell_type": "code",
   "execution_count": null,
   "id": "b4421af6",
   "metadata": {
    "colab": {
     "base_uri": "https://localhost:8080/",
     "height": 1000,
     "output_embedded_package_id": "1nYd2RBoJ60T2VGScm9KUtYx9zuIQvOvt"
    },
    "id": "b4421af6",
    "executionInfo": {
     "status": "ok",
     "timestamp": 1672050197246,
     "user_tz": -60,
     "elapsed": 20243,
     "user": {
      "displayName": "Aymane Chilah",
      "userId": "03881241080678771864"
     }
    },
    "outputId": "473bbdfe-e86c-42f8-dc82-8d24c25c0f39"
   },
   "outputs": [
    {
     "output_type": "display_data",
     "data": {
      "text/plain": "Output hidden; open in https://colab.research.google.com to view."
     },
     "metadata": {}
    }
   ],
   "source": [
    "imagePath1 = pkg_resources.resource_filename('sparkocr', 'resources/ocr/text_detection/020_Yas_patella1.jpg')\n",
    "imagePath2 = pkg_resources.resource_filename('sparkocr', 'resources/ocr/images/check.jpg')\n",
    "image_df = spark.read.format(\"binaryFile\").load([imagePath1, imagePath2]).sort(\"path\")\n",
    "\n",
    "display_images(BinaryToImage().setImageType(ImageType.TYPE_3BYTE_BGR).transform(image_df), \"image\")"
   ]
  },
  {
   "cell_type": "markdown",
   "id": "26894f9c",
   "metadata": {
    "id": "26894f9c"
   },
   "source": [
    "# Define OCR Pipeline for detect and recognize text "
   ]
  },
  {
   "cell_type": "code",
   "execution_count": null,
   "id": "99369f57",
   "metadata": {
    "colab": {
     "base_uri": "https://localhost:8080/"
    },
    "id": "99369f57",
    "executionInfo": {
     "status": "ok",
     "timestamp": 1672050219939,
     "user_tz": -60,
     "elapsed": 12254,
     "user": {
      "displayName": "Aymane Chilah",
      "userId": "03881241080678771864"
     }
    },
    "outputId": "3af91bc3-a771-45b5-b84f-7842e577a4fd"
   },
   "outputs": [
    {
     "output_type": "stream",
     "name": "stdout",
     "text": [
      "image_text_detector_v2 download started this may take some time.\n",
      "Approximate size to download 75.3 MB\n"
     ]
    }
   ],
   "source": [
    "binary_to_image = BinaryToImage() \n",
    "binary_to_image.setImageType(ImageType.TYPE_3BYTE_BGR)\n",
    "\n",
    "text_detector = ImageTextDetectorV2 \\\n",
    "    .pretrained(\"image_text_detector_v2\", \"en\", \"clinical/ocr\") \\\n",
    "    .setInputCol(\"image\") \\\n",
    "    .setOutputCol(\"text_regions\") \\\n",
    "    .setScoreThreshold(0.5) \\\n",
    "    .setTextThreshold(0.2) \\\n",
    "    .setSizeThreshold(10) \\\n",
    "    .setWithRefiner(True)\n",
    "\n",
    "draw_regions = ImageDrawRegions() \\\n",
    "    .setInputCol(\"image\") \\\n",
    "    .setInputRegionsCol(\"text_regions\") \\\n",
    "    .setOutputCol(\"image_with_regions\") \\\n",
    "    .setRectColor(Color.green) \\\n",
    "    .setRotated(True)\n",
    "\n",
    "pipeline = PipelineModel(stages=[\n",
    "    binary_to_image,\n",
    "    text_detector,\n",
    "    draw_regions\n",
    "])"
   ]
  },
  {
   "cell_type": "markdown",
   "id": "d49110b9",
   "metadata": {
    "id": "d49110b9"
   },
   "source": [
    "# Run pipeline and show results"
   ]
  },
  {
   "cell_type": "code",
   "execution_count": null,
   "id": "8dd1ef72",
   "metadata": {
    "colab": {
     "base_uri": "https://localhost:8080/",
     "height": 1000,
     "output_embedded_package_id": "1ngKC966guPCCe5cjHYXsBmf4QWz27NRA"
    },
    "id": "8dd1ef72",
    "executionInfo": {
     "status": "ok",
     "timestamp": 1672050285606,
     "user_tz": -60,
     "elapsed": 65670,
     "user": {
      "displayName": "Aymane Chilah",
      "userId": "03881241080678771864"
     }
    },
    "outputId": "6ab33a0c-53c5-40ed-8cec-1deaea17e59f"
   },
   "outputs": [
    {
     "output_type": "display_data",
     "data": {
      "text/plain": "Output hidden; open in https://colab.research.google.com to view."
     },
     "metadata": {}
    }
   ],
   "source": [
    "result = pipeline.transform(image_df)\n",
    "display_images(result, \"image_with_regions\")"
   ]
  },
  {
   "cell_type": "markdown",
   "id": "89259233",
   "metadata": {
    "id": "89259233"
   },
   "source": [
    "## Disable refiner and tune thresholds for detect each word separately"
   ]
  },
  {
   "cell_type": "code",
   "execution_count": null,
   "id": "f8db4793",
   "metadata": {
    "colab": {
     "base_uri": "https://localhost:8080/",
     "height": 1000,
     "output_embedded_package_id": "1-wAC0P7854dJIsHblyCiizqYxHuG8pCC"
    },
    "id": "f8db4793",
    "executionInfo": {
     "status": "ok",
     "timestamp": 1672050336396,
     "user_tz": -60,
     "elapsed": 46261,
     "user": {
      "displayName": "Aymane Chilah",
      "userId": "03881241080678771864"
     }
    },
    "outputId": "93d5727c-2aa6-4eb1-e550-f0dc0e1a8222"
   },
   "outputs": [
    {
     "output_type": "display_data",
     "data": {
      "text/plain": "Output hidden; open in https://colab.research.google.com to view."
     },
     "metadata": {}
    }
   ],
   "source": [
    "pipeline.stages[1].setWithRefiner(False)\n",
    "pipeline.stages[1].setSizeThreshold(15)\n",
    "pipeline.stages[1].setLinkThreshold(0.3)\n",
    "pipeline.stages[1].setScoreThreshold(0.7)\n",
    "pipeline.stages[1].setTextThreshold(0.4)\n",
    "pipeline.stages[1].setMergeIntersects(False)\n",
    "\n",
    "result = pipeline.transform(image_df)\n",
    "display_images(result, \"image_with_regions\")"
   ]
  },
  {
   "cell_type": "markdown",
   "id": "6d990725",
   "metadata": {
    "id": "6d990725"
   },
   "source": [
    "## Enable merging intersects of bounding boxes in same line"
   ]
  },
  {
   "cell_type": "code",
   "execution_count": null,
   "id": "e7829a01",
   "metadata": {
    "colab": {
     "base_uri": "https://localhost:8080/",
     "height": 1000
    },
    "id": "e7829a01",
    "executionInfo": {
     "status": "ok",
     "timestamp": 1672050386371,
     "user_tz": -60,
     "elapsed": 46757,
     "user": {
      "displayName": "Aymane Chilah",
      "userId": "03881241080678771864"
     }
    },
    "outputId": "4acdd1ae-fac3-4525-8c92-8b282be9dee3"
   },
   "outputs": [],
   "source": [
    "pipeline.stages[1].setMergeIntersects(True)\n",
    "\n",
    "result = pipeline.transform(image_df)\n",
    "display_images(result, \"image_with_regions\")"
   ]
  }
 ],
 "metadata": {
  "kernelspec": {
   "display_name": "Python 3",
   "language": "python",
   "name": "python3"
  },
  "language_info": {
   "codemirror_mode": {
    "name": "ipython",
    "version": 3
   },
   "file_extension": ".py",
   "mimetype": "text/x-python",
   "name": "python",
   "nbconvert_exporter": "python",
   "pygments_lexer": "ipython3",
   "version": "3.9.1 (tags/v3.9.1:1e5d33e, Dec  7 2020, 17:08:21) [MSC v.1927 64 bit (AMD64)]"
  },
  "vscode": {
   "interpreter": {
    "hash": "7631773df7a20f76ce0129852d6286a048d5c426a0098a673052d93f81596669"
   }
  },
  "colab": {
   "provenance": []
  }
 },
 "nbformat": 4,
 "nbformat_minor": 5
}
