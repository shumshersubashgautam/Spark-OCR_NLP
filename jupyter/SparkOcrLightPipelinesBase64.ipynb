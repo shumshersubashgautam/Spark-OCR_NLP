{
 "cells": [
  {
   "cell_type": "markdown",
   "metadata": {},
   "source": [
    "# Example of using Base64ToImage Transformer on Spark OCR\n",
    "## Install spark-ocr python packge\n",
    "Need specify path to `spark-ocr-assembly-[version].jar` or `secret`"
   ]
  },
  {
   "cell_type": "code",
   "execution_count": 1,
   "metadata": {},
   "outputs": [],
   "source": [
    "license = \"\"\n",
    "secret = \"\"\n",
    "nlp_secret = \"\"\n",
    "aws_access_key = \"\"\n",
    "aws_secret_key = \"\"\n",
    "\n",
    "version = secret.split(\"-\")[0]\n",
    "spark_ocr_jar_path = \"../../target/scala-2.12\""
   ]
  },
  {
   "cell_type": "code",
   "execution_count": 2,
   "metadata": {},
   "outputs": [],
   "source": [
    "%%bash\n",
    "if python -c 'import google.colab' &> /dev/null; then\n",
    "    echo \"Run on Google Colab!\"\n",
    "    echo \"Install Open JDK\"\n",
    "    apt-get install -y openjdk-8-jdk-headless -qq > /dev/null\n",
    "    java -version\n",
    "fi"
   ]
  },
  {
   "cell_type": "code",
   "execution_count": 3,
   "metadata": {},
   "outputs": [],
   "source": [
    "import sys\n",
    "import os\n",
    "\n",
    "if 'google.colab' in sys.modules:\n",
    "  os.environ[\"JAVA_HOME\"] = \"/usr/lib/jvm/java-8-openjdk-amd64\"\n",
    "  os.environ[\"PATH\"] = os.environ[\"JAVA_HOME\"] + \"/bin:\" + os.environ[\"PATH\"]"
   ]
  },
  {
   "cell_type": "markdown",
   "metadata": {},
   "source": [
    "## Initialization of spark session"
   ]
  },
  {
   "cell_type": "code",
   "execution_count": 4,
   "metadata": {},
   "outputs": [
    {
     "name": "stdout",
     "output_type": "stream",
     "text": [
      "Spark version: 3.2.1\n",
      "Spark NLP version: 4.4.1\n",
      "Spark NLP for Healthcare version: 4.3.0\n",
      "Spark OCR version: 4.4.1rc6\n",
      "\n"
     ]
    }
   ],
   "source": [
    "from pyspark.sql import SparkSession\n",
    "from sparkocr import start\n",
    "\n",
    "if license:\n",
    "    os.environ['JSL_OCR_LICENSE'] = license\n",
    "    \n",
    "# Pass nlp_secret=nlp_secret, if you don't have a jar\n",
    "spark = start(jar_path=spark_ocr_jar_path)"
   ]
  },
  {
   "cell_type": "code",
   "execution_count": 13,
   "metadata": {},
   "outputs": [],
   "source": [
    "from pyspark.ml import PipelineModel\n",
    "from pyspark.sql.functions import *\n",
    "from sparkocr.transformers import *"
   ]
  },
  {
   "cell_type": "code",
   "execution_count": 6,
   "metadata": {},
   "outputs": [],
   "source": [
    "import pkg_resources\n",
    "img_path = pkg_resources.resource_filename('sparkocr', 'resources/ocr/images/check.jpg')"
   ]
  },
  {
   "cell_type": "markdown",
   "metadata": {},
   "source": [
    "## Convert to Base64"
   ]
  },
  {
   "cell_type": "code",
   "execution_count": 7,
   "metadata": {},
   "outputs": [],
   "source": [
    "import base64\n",
    "with open(img_path, 'rb') as f:\n",
    "    base64_img = base64.b64encode(f.read()).decode('ascii')"
   ]
  },
  {
   "cell_type": "markdown",
   "metadata": {},
   "source": [
    "## Define OCR pipeline"
   ]
  },
  {
   "cell_type": "code",
   "execution_count": 8,
   "metadata": {},
   "outputs": [],
   "source": [
    "# Transform base64 to image\n",
    "base64_to_image = Base64ToImage()\n",
    "base64_to_image.setOutputCol(\"image\")\n",
    "\n",
    "# Run OCR for each region\n",
    "ocr = ImageToText()\n",
    "ocr.setInputCol(\"image\")\n",
    "ocr.setOutputCol(\"text\")\n",
    "ocr.setConfidenceThreshold(60)\n",
    "\n",
    "# OCR pipeline\n",
    "pipeline = PipelineModel(stages=[\n",
    "    base64_to_image,\n",
    "    ocr\n",
    "])"
   ]
  },
  {
   "cell_type": "markdown",
   "metadata": {},
   "source": [
    "## Create LightPipeline"
   ]
  },
  {
   "cell_type": "code",
   "execution_count": 9,
   "metadata": {},
   "outputs": [],
   "source": [
    "from sparkocr.base import LightPipeline"
   ]
  },
  {
   "cell_type": "code",
   "execution_count": 10,
   "metadata": {},
   "outputs": [],
   "source": [
    "lp = LightPipeline(pipeline)"
   ]
  },
  {
   "cell_type": "code",
   "execution_count": 11,
   "metadata": {},
   "outputs": [
    {
     "name": "stdout",
     "output_type": "stream",
     "text": [
      "base64_to_image\n",
      "ocr_pipeline_exception\n",
      "image_to_text\n",
      "page_matrix\n",
      "base64_source_file\n",
      "CPU times: user 15.3 ms, sys: 2.46 ms, total: 17.8 ms\n",
      "Wall time: 1.09 s\n"
     ]
    },
    {
     "data": {
      "text/plain": [
       "[{'image': ImageOutput(path: base64_in_memory, exception: None),\n",
       "  'exception': Light Pipeline Exception(message: [ocr_pipeline_exception::]),\n",
       "  'text': Annotation(image_to_text, 0, 324, STARBUCKS Store #19208\n",
       "  11902 Euclid Avenue\n",
       "  Cleveland, OH (216) 229-U749\n",
       "  \n",
       "  CHK 664250\n",
       "  12/07/2014 06:43 PM\n",
       "  112003. Drawer: 2. Reg: 2\n",
       "  \n",
       "  ¥t Pep Mocha 4.95\n",
       "  \n",
       "  Sbux Card 4.95\n",
       "  \n",
       "  AXKANRKAXERAK, 3228\n",
       "  \n",
       "  Subtotal $4.95\n",
       "  \n",
       "  Total $4.95\n",
       "  Change Cue BOC\n",
       "  \n",
       "  - Check Closed ~\n",
       "  “12/01/2014 06:43 py\n",
       "  \n",
       "  oBUX Card «3228 New Balance: 37.45\n",
       "  Card is registertd\n",
       "  , Map(confidence -> 73.71952590942382, exception -> , sourcePath -> base64_in_memory), []),\n",
       "  'positions': None,\n",
       "  'content': source base64 file buffer, of len: 20. First 20 chars: /9j/4AAQSkZJRgABAQEA}]"
      ]
     },
     "execution_count": 11,
     "metadata": {},
     "output_type": "execute_result"
    }
   ],
   "source": [
    "%%time\n",
    "result = lp.fromString(base64_img)\n",
    "result"
   ]
  }
 ],
 "metadata": {
  "kernelspec": {
   "display_name": "Python 3 (ipykernel)",
   "language": "python",
   "name": "python3"
  },
  "language_info": {
   "codemirror_mode": {
    "name": "ipython",
    "version": 3
   },
   "file_extension": ".py",
   "mimetype": "text/x-python",
   "name": "python",
   "nbconvert_exporter": "python",
   "pygments_lexer": "ipython3",
   "version": "3.7.5"
  }
 },
 "nbformat": 4,
 "nbformat_minor": 2
}
