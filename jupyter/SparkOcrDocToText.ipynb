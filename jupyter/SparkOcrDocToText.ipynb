{
 "cells": [
  {
   "cell_type": "markdown",
   "metadata": {
    "id": "zpllg78Scd5S"
   },
   "source": [
    "# Example of extracting text from Microsoft DOCX documents"
   ]
  },
  {
   "cell_type": "markdown",
   "metadata": {
    "id": "32VSoC9Icd5W"
   },
   "source": [
    "## Install spark-ocr python packge\n",
    "Need specify path to `spark-ocr-assembly-[version].jar` or `secret`"
   ]
  },
  {
   "cell_type": "code",
   "execution_count": 1,
   "metadata": {
    "id": "-xSSEQNAcd5Z"
   },
   "outputs": [],
   "source": [
    "secret = \"\"\n",
    "license = \"\"\n",
    "version = secret.split(\"-\")[0]\n",
    "spark_ocr_jar_path = \"../../target/scala-2.11\""
   ]
  },
  {
   "cell_type": "code",
   "execution_count": 2,
   "metadata": {
    "colab": {
     "base_uri": "https://localhost:8080/"
    },
    "id": "ztzvE2MCcd5c",
    "outputId": "1572e9ee-8317-4ff0-f7ae-13a05dfee0ea"
   },
   "outputs": [],
   "source": [
    "%%bash\n",
    "if python -c 'import google.colab' &> /dev/null; then\n",
    "    echo \"Run on Google Colab!\"\n",
    "    echo \"Install Open JDK\"\n",
    "    apt-get install -y openjdk-8-jdk-headless -qq > /dev/null\n",
    "    java -version\n",
    "fi"
   ]
  },
  {
   "cell_type": "code",
   "execution_count": 3,
   "metadata": {
    "id": "_GWcSl1zcd5e"
   },
   "outputs": [],
   "source": [
    "import os\n",
    "import sys\n",
    "\n",
    "if 'google.colab' in sys.modules:\n",
    "  os.environ[\"JAVA_HOME\"] = \"/usr/lib/jvm/java-8-openjdk-amd64\"\n",
    "  os.environ[\"PATH\"] = os.environ[\"JAVA_HOME\"] + \"/bin:\" + os.environ[\"PATH\"]"
   ]
  },
  {
   "cell_type": "code",
   "execution_count": 4,
   "metadata": {
    "id": "9ajVDx7Ocd5f"
   },
   "outputs": [],
   "source": [
    "# install from PYPI using secret\n",
    "# %pip install spark-ocr==$version+spark30 --extra-index-url=https://pypi.johnsnowlabs.com/$secret --upgrade"
   ]
  },
  {
   "cell_type": "code",
   "execution_count": 5,
   "metadata": {
    "id": "n9YI0kIkcd5g"
   },
   "outputs": [],
   "source": [
    "# or install from local path\n",
    "# %pip install ../../python/dist/spark-ocr-1.10.0.spark24.tar.gz"
   ]
  },
  {
   "cell_type": "markdown",
   "metadata": {
    "id": "g2BBJprPcd5i"
   },
   "source": [
    "## Initialization of spark session"
   ]
  },
  {
   "cell_type": "code",
   "execution_count": 6,
   "metadata": {
    "colab": {
     "base_uri": "https://localhost:8080/",
     "height": 289
    },
    "id": "msIzKTbccd5j",
    "outputId": "37d52fc8-cf2a-42f8-86b1-6c879bc21d53"
   },
   "outputs": [
    {
     "name": "stdout",
     "output_type": "stream",
     "text": [
      "Spark version: 3.1.3\n",
      "Spark NLP version: 4.0.0\n",
      "Spark NLP for Healthcare version: 4.0.0\n",
      "Spark OCR version: 4.0.1\n",
      "\n"
     ]
    },
    {
     "data": {
      "text/html": [
       "\n",
       "            <div>\n",
       "                <p><b>SparkSession - in-memory</b></p>\n",
       "                \n",
       "        <div>\n",
       "            <p><b>SparkContext</b></p>\n",
       "\n",
       "            <p><a href=\"http://192.168.0.14:4042\">Spark UI</a></p>\n",
       "\n",
       "            <dl>\n",
       "              <dt>Version</dt>\n",
       "                <dd><code>v3.1.3</code></dd>\n",
       "              <dt>Master</dt>\n",
       "                <dd><code>local[*]</code></dd>\n",
       "              <dt>AppName</dt>\n",
       "                <dd><code>Spark OCR</code></dd>\n",
       "            </dl>\n",
       "        </div>\n",
       "        \n",
       "            </div>\n",
       "        "
      ],
      "text/plain": [
       "<pyspark.sql.session.SparkSession at 0x7ff4a66b6c50>"
      ]
     },
     "execution_count": 6,
     "metadata": {},
     "output_type": "execute_result"
    }
   ],
   "source": [
    "from sparkocr import start\n",
    "\n",
    "if license:\n",
    "    os.environ['JSL_OCR_LICENSE'] = license\n",
    "\n",
    "spark = start(secret=secret, jar_path=spark_ocr_jar_path)\n",
    "spark"
   ]
  },
  {
   "cell_type": "markdown",
   "metadata": {
    "id": "FXrG91vgcd5l"
   },
   "source": [
    "## Import OCR transformers"
   ]
  },
  {
   "cell_type": "code",
   "execution_count": 7,
   "metadata": {
    "id": "cYODVSU-cd5n"
   },
   "outputs": [],
   "source": [
    "from sparkocr.transformers import *\n",
    "from sparkocr.utils import display_image\n",
    "from pyspark.sql.functions import collect_list,col"
   ]
  },
  {
   "cell_type": "markdown",
   "metadata": {
    "id": "zC4PHzX9cd5o"
   },
   "source": [
    "## Read DOCX document as binary file"
   ]
  },
  {
   "cell_type": "code",
   "execution_count": 8,
   "metadata": {
    "id": "c4CpcW3Bcd5p"
   },
   "outputs": [],
   "source": [
    "import pkg_resources\n",
    "doc_example = pkg_resources.resource_filename('sparkocr', 'resources/ocr/docs/doc2.docx')\n",
    "doc_example_df = spark.read.format(\"binaryFile\").load(doc_example).cache()"
   ]
  },
  {
   "cell_type": "markdown",
   "metadata": {
    "id": "pJkUVH0jcd5r"
   },
   "source": [
    "## Extract text using `DocToText` transformer"
   ]
  },
  {
   "cell_type": "code",
   "execution_count": 9,
   "metadata": {
    "id": "qQLudRsIcd5r"
   },
   "outputs": [],
   "source": [
    "doc_to_text = DocToText()\n",
    "doc_to_text.setInputCol(\"content\")\n",
    "doc_to_text.setOutputCol(\"text\")\n",
    "\n",
    "result = doc_to_text.transform(doc_example_df)"
   ]
  },
  {
   "cell_type": "markdown",
   "metadata": {
    "id": "GCUhJjopcd5s"
   },
   "source": [
    "## Display result DataFrame"
   ]
  },
  {
   "cell_type": "code",
   "execution_count": 10,
   "metadata": {
    "colab": {
     "base_uri": "https://localhost:8080/"
    },
    "id": "LC2XZw50cd5t",
    "outputId": "77b88368-7907-4d82-aa57-3073af9c15f3"
   },
   "outputs": [
    {
     "name": "stdout",
     "output_type": "stream",
     "text": [
      "+--------------------+--------------------+------+--------------------+---------+-------+\n",
      "|                path|    modificationTime|length|                text|exception|pagenum|\n",
      "+--------------------+--------------------+------+--------------------+---------+-------+\n",
      "|file:/home/jose/....|2022-08-04 22:56:...| 33260|Sample Document\n",
      "T...|     null|      0|\n",
      "+--------------------+--------------------+------+--------------------+---------+-------+\n",
      "\n"
     ]
    }
   ],
   "source": [
    "result.show()"
   ]
  },
  {
   "cell_type": "markdown",
   "metadata": {
    "id": "82ujO1Gxcd5u"
   },
   "source": [
    "## Display extracted text"
   ]
  },
  {
   "cell_type": "code",
   "execution_count": 11,
   "metadata": {
    "colab": {
     "base_uri": "https://localhost:8080/"
    },
    "id": "v4WucwgXcd5v",
    "outputId": "fbb94860-c7f9-49a2-faf5-57fa9f35eb67"
   },
   "outputs": [
    {
     "name": "stdout",
     "output_type": "stream",
     "text": [
      "Sample Document\n",
      "This document was created using accessibility techniques for headings, lists, image alternate text, tables, and columns. It should be completely accessible using assistive technologies such as screen readers.\n",
      "Headings\n",
      "There are eight section headings in this document. At the beginning, \"Sample Document\" is a level 1 heading. The main section headings, such as \"Headings\" and \"Lists\" are level 2 headings. The Tables section contains two sub-headings, \"Simple Table\" and \"Complex Table,\" which are both level 3 headings.\n",
      "Lists\n",
      "The following outline of the sections of this document is an ordered (numbered) list with six items. The fifth item, \"Tables,\" contains a nested unordered (bulleted) list with two items.\n",
      "Headings \n",
      "Lists \n",
      "Links \n",
      "Images \n",
      "Tables \n",
      "Simple Tables \n",
      "Complex Tables \n",
      "Columns \n",
      "Links\n",
      "In web documents, links can point different locations on the page, different pages, or even downloadable documents, such as Word documents or PDFs:\n",
      "Top of this Page\n",
      "Sample Document\n",
      "Sample Document (docx)\n",
      "Images\n",
      "Documents may contain images. For example, there is an image of the web accessibility symbol to the left of this paragraph. Its alternate text is \"Web Access Symbol\".\n",
      "Alt text should communicate what an image means, not how it looks.\n",
      "\n",
      "\n",
      "\n",
      "\n",
      "\n",
      "\n",
      "Some images, such as charts or graphs, require long descriptions, but not all document types allow that. In web pages, long descriptions may be provided in several ways: on the page below the image, via a link below the image, or via a link on the image.\n",
      "\n",
      "\n",
      "\n",
      "\n",
      "Tables\n",
      "Simple Tables\n",
      "Simple tables have a uniform number of columns and rows, without any merged cells:\n",
      "Screen Reader\tResponses\tShare\n",
      "JAWS\t853\t49%\n",
      "NVDA\t238\t14%\n",
      "Window-Eyes\t214\t12%\n",
      "System Access\t181\t10%\n",
      "VoiceOver\t159\t9%\n",
      "\n",
      "\n",
      "Complex Tables\n",
      "The following is a complex table, using merged cells as headers for sections within the table. This can't be made accessible in all types of documents:\n",
      "\tMay 2012\t September 2010\n",
      "Screen Reader\tResponses\tShare\tResponses\tShare \n",
      "JAWS\t853\t49%\t727\t59% \n",
      "NVDA\t238\t14%\t105\t9% \n",
      "Window-Eyes\t214\t12%\t138\t11% \n",
      "System Access\t181\t10%\t58\t5% \n",
      "VoiceOver\t159\t9%\t120\t10%\n",
      "\n",
      " \n",
      "\n",
      "\n",
      "\n",
      "Columns\n",
      "\n",
      "This is an example of columns. With columns, the page is split into two or more horizontal sections. Unlike tables, in which you usually read across a row and then down to the next, in columns, you read down a column and then across to the next.\n",
      "When columns are not created correctly, screen readers may run lines together, reading the first line of the first column, then the first line of the second column, then the second line of the first column, and so on. Obviously, that is not accessible.\n",
      "\n"
     ]
    }
   ],
   "source": [
    "print(\"\\n\".join([row.text for row in result.select(\"text\").collect()]))"
   ]
  }
 ],
 "metadata": {
  "colab": {
   "collapsed_sections": [],
   "name": "SparkOcrDocToText.ipynb",
   "provenance": []
  },
  "kernelspec": {
   "display_name": "Python 3 (ipykernel)",
   "language": "python",
   "name": "python3"
  },
  "language_info": {
   "codemirror_mode": {
    "name": "ipython",
    "version": 3
   },
   "file_extension": ".py",
   "mimetype": "text/x-python",
   "name": "python",
   "nbconvert_exporter": "python",
   "pygments_lexer": "ipython3",
   "version": "3.7.5"
  }
 },
 "nbformat": 4,
 "nbformat_minor": 1
}
