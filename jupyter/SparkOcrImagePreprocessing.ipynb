{
 "cells": [
  {
   "cell_type": "markdown",
   "metadata": {
    "id": "lS_nUbuJKS-S",
    "pycharm": {
     "name": "#%% md\n"
    }
   },
   "source": [
    "# Example of usage ImageAdaptiveThresholding and  ImageAdaptiveBinarizer transformers"
   ]
  },
  {
   "cell_type": "markdown",
   "metadata": {
    "id": "TionG_3fKS-U",
    "pycharm": {
     "name": "#%% md\n"
    }
   },
   "source": [
    "## Install spark-ocr python packge\n",
    "Need specify path to `spark-ocr-assembly-[version].jar` or `secret`"
   ]
  },
  {
   "cell_type": "code",
   "execution_count": 1,
   "metadata": {
    "id": "8wXCorTNKS-V",
    "pycharm": {
     "name": "#%%\n"
    }
   },
   "outputs": [],
   "source": [
    "secret = \"\"\n",
    "license = \"\"\n",
    "version = secret.split(\"-\")[0]\n",
    "spark_ocr_jar_path = \"../../target/scala-2.12/\""
   ]
  },
  {
   "cell_type": "code",
   "execution_count": 2,
   "metadata": {
    "colab": {
     "base_uri": "https://localhost:8080/"
    },
    "id": "Q6Dj7PDbKS-V",
    "outputId": "a341f298-3819-40db-81e5-3c3250c410ec",
    "pycharm": {
     "name": "#%%\n"
    },
    "scrolled": true
   },
   "outputs": [
    {
     "name": "stdout",
     "output_type": "stream",
     "text": [
      "Defaulting to user installation because normal site-packages is not writeable\n",
      "Looking in indexes: https://pypi.org/simple, https://pypi.johnsnowlabs.com/\n",
      "\u001b[31mERROR: Could not find a version that satisfies the requirement spark-ocr==+spark32 (from versions: 0.0.1)\u001b[0m\u001b[31m\n",
      "\u001b[0m\u001b[31mERROR: No matching distribution found for spark-ocr==+spark32\u001b[0m\u001b[31m\n",
      "\u001b[0m\u001b[33mWARNING: You are using pip version 22.0.4; however, version 22.2.2 is available.\n",
      "You should consider upgrading via the '/usr/bin/python3.7 -m pip install --upgrade pip' command.\u001b[0m\u001b[33m\n",
      "\u001b[0mNote: you may need to restart the kernel to use updated packages.\n"
     ]
    }
   ],
   "source": [
    "# install from PYPI using secret\n",
    "# %pip install spark-ocr==$version --extra-index-url=https://pypi.johnsnowlabs.com/$secret --upgrade"
   ]
  },
  {
   "cell_type": "markdown",
   "metadata": {
    "id": "V0gOldUCKS-W",
    "pycharm": {
     "name": "#%% md\n"
    }
   },
   "source": [
    "## Initialization of spark session"
   ]
  },
  {
   "cell_type": "code",
   "execution_count": 3,
   "metadata": {
    "colab": {
     "base_uri": "https://localhost:8080/"
    },
    "id": "rKXRWy7OKS-X",
    "outputId": "98ff2382-2c7a-4ec9-ee6f-7e780094fab0",
    "pycharm": {
     "name": "#%%\n"
    }
   },
   "outputs": [
    {
     "name": "stdout",
     "output_type": "stream",
     "text": [
      "Spark version: 3.2.1\n",
      "Spark NLP version: 4.1.0\n",
      "Spark NLP for Healthcare version: 4.0.0\n",
      "Spark OCR version: 4.1.0\n",
      "\n"
     ]
    }
   ],
   "source": [
    "from sparkocr import info\n",
    "info()"
   ]
  },
  {
   "cell_type": "code",
   "execution_count": 4,
   "metadata": {
    "colab": {
     "base_uri": "https://localhost:8080/",
     "height": 289
    },
    "id": "T5JcRWb2KS-X",
    "outputId": "250d0adb-427e-40cc-ebf3-f17025c9a445",
    "pycharm": {
     "name": "#%%\n"
    }
   },
   "outputs": [
    {
     "name": "stdout",
     "output_type": "stream",
     "text": [
      "Spark version: 3.2.1\n",
      "Spark NLP version: 4.1.0\n",
      "Spark NLP for Healthcare version: 4.0.0\n",
      "Spark OCR version: 4.1.0\n",
      "\n"
     ]
    },
    {
     "data": {
      "text/html": [
       "\n",
       "            <div>\n",
       "                <p><b>SparkSession - in-memory</b></p>\n",
       "                \n",
       "        <div>\n",
       "            <p><b>SparkContext</b></p>\n",
       "\n",
       "            <p><a href=\"http://192.168.0.14:4041\">Spark UI</a></p>\n",
       "\n",
       "            <dl>\n",
       "              <dt>Version</dt>\n",
       "                <dd><code>v3.2.1</code></dd>\n",
       "              <dt>Master</dt>\n",
       "                <dd><code>local[*]</code></dd>\n",
       "              <dt>AppName</dt>\n",
       "                <dd><code>Spark OCR</code></dd>\n",
       "            </dl>\n",
       "        </div>\n",
       "        \n",
       "            </div>\n",
       "        "
      ],
      "text/plain": [
       "<pyspark.sql.session.SparkSession at 0x7f718d0229d0>"
      ]
     },
     "execution_count": 4,
     "metadata": {},
     "output_type": "execute_result"
    }
   ],
   "source": [
    "from pyspark.sql import SparkSession\n",
    "from sparkocr import start\n",
    "import sys\n",
    "import os\n",
    "\n",
    "if license:\n",
    "    os.environ['JSL_OCR_LICENSE'] = license\n",
    "\n",
    "spark = start(secret=secret, jar_path=spark_ocr_jar_path)\n",
    "spark"
   ]
  },
  {
   "cell_type": "markdown",
   "metadata": {
    "id": "t-XtrWSDKS-X",
    "pycharm": {
     "name": "#%% md\n"
    }
   },
   "source": [
    "## Import OCR transformers"
   ]
  },
  {
   "cell_type": "code",
   "execution_count": 5,
   "metadata": {
    "id": "J1Css1dlKS-Y",
    "pycharm": {
     "name": "#%%\n"
    }
   },
   "outputs": [],
   "source": [
    "from pyspark.ml import PipelineModel\n",
    "\n",
    "from sparkocr.transformers import *\n",
    "from sparkocr.enums import *\n",
    "from sparkocr.utils import display_image"
   ]
  },
  {
   "cell_type": "markdown",
   "metadata": {
    "id": "oRmR4MusKS-Z",
    "pycharm": {
     "name": "#%% md\n"
    }
   },
   "source": [
    "## Read PDF document as binary file"
   ]
  },
  {
   "cell_type": "code",
   "execution_count": 6,
   "metadata": {
    "id": "SIXyJB66KS-Z",
    "pycharm": {
     "name": "#%%\n"
    }
   },
   "outputs": [],
   "source": [
    "!wget -q https://raw.githubusercontent.com/JohnSnowLabs/spark-ocr-workshop/master/jupyter/data/images/text_with_noise.png"
   ]
  },
  {
   "cell_type": "code",
   "execution_count": 7,
   "metadata": {
    "id": "0PEOHd9PKS-Z",
    "pycharm": {
     "name": "#%%\n"
    },
    "scrolled": true
   },
   "outputs": [],
   "source": [
    "image_example = \"text_with_noise.png\"\n",
    "image_example_df = spark.read.format(\"binaryFile\").load(image_example).cache()"
   ]
  },
  {
   "cell_type": "markdown",
   "metadata": {
    "pycharm": {
     "name": "#%% md\n"
    }
   },
   "source": [
    "## Original"
   ]
  },
  {
   "cell_type": "code",
   "execution_count": 8,
   "metadata": {
    "pycharm": {
     "name": "#%%\n"
    }
   },
   "outputs": [],
   "source": [
    "binary_to_image = BinaryToImage() \\\n",
    "    .setInputCol(\"content\") \\\n",
    "    .setOutputCol(\"image\")\n",
    "\n",
    "ocr = ImageToText() \\\n",
    "    .setInputCol(\"image\") \\\n",
    "    .setOutputCol(\"text\") \\\n",
    "    .setConfidenceThreshold(70) \\\n",
    "    .setIgnoreResolution(False) \\\n",
    "    .setPageIteratorLevel(PageIteratorLevel.SYMBOL) \n",
    "\n",
    "\n",
    "pipeline_original = PipelineModel(stages=[\n",
    "    binary_to_image,\n",
    "    ocr\n",
    "])\n",
    "\n",
    "#spark.sql(\"set spark.sql.legacy.allowUntypedScalaUDF=true\")"
   ]
  },
  {
   "cell_type": "code",
   "execution_count": 9,
   "metadata": {
    "pycharm": {
     "name": "#%%\n"
    },
    "scrolled": true
   },
   "outputs": [
    {
     "name": "stdout",
     "output_type": "stream",
     "text": [
      "\n",
      "    Image #0:\n",
      "    Origin: file:/home/jose/spark-ocr/workshop/jupyter/text_with_noise.png\n",
      "    Resolution: 95 dpi\n",
      "    Width: 1095 px\n",
      "    Height: 134 px\n",
      "    Mode: ImageType.TYPE_BYTE_GRAY\n",
      "    Number of channels: 1\n"
     ]
    },
    {
     "data": {
      "image/png": "[encoded data removed]",
      "text/plain": [
       "<PIL.Image.Image image mode=L size=1095x134 at 0x7F709DC1E6D0>"
      ]
     },
     "metadata": {
      "width": 600
     },
     "output_type": "display_data"
    },
    {
     "name": "stdout",
     "output_type": "stream",
     "text": [
      "Detected text:\n",
      "\n",
      "la base de la grande statue de Zeus, a “Olympie, Phidias avait\n",
      "é les Douze Dieux. Entre le’ Soleil (HEélios) et la Lune (Séléné)\n",
      "ze divinités, groupées deux a deux, s ordonnaient en six couples :\n",
      "  \n",
      "  \n"
     ]
    }
   ],
   "source": [
    "for r in pipeline_original.transform(image_example_df).select(\"image\", \"text\").collect():\n",
    "    display_image(r.image)\n",
    "    print(f\"Detected text:\\n{r.text}\")"
   ]
  },
  {
   "cell_type": "markdown",
   "metadata": {
    "pycharm": {
     "name": "#%% md\n"
    }
   },
   "source": [
    "##  Light Homogenize (LH)"
   ]
  },
  {
   "cell_type": "code",
   "execution_count": 10,
   "metadata": {
    "id": "pTwlFOQCKS-Y",
    "pycharm": {
     "name": "#%%\n"
    }
   },
   "outputs": [],
   "source": [
    "light_homogenize = ImageHomogenizeLight() \\\n",
    "    .setInputCol(\"image\") \\\n",
    "    .setOutputCol(\"image\") \\\n",
    "    .setThreshold(0) \\\n",
    "    .setExpIn(112)\n",
    "\n",
    "\n",
    "pipeline_lh = PipelineModel(stages=[\n",
    "    binary_to_image,\n",
    "    light_homogenize,\n",
    "    ocr\n",
    "])"
   ]
  },
  {
   "cell_type": "code",
   "execution_count": 11,
   "metadata": {
    "pycharm": {
     "name": "#%%\n"
    },
    "scrolled": true
   },
   "outputs": [
    {
     "name": "stdout",
     "output_type": "stream",
     "text": [
      "\n",
      "    Image #0:\n",
      "    Origin: file:/home/jose/spark-ocr/workshop/jupyter/text_with_noise.png\n",
      "    Resolution: 95 dpi\n",
      "    Width: 1095 px\n",
      "    Height: 134 px\n",
      "    Mode: ImageType.TYPE_BYTE_BINARY\n",
      "    Number of channels: 1\n"
     ]
    },
    {
     "data": {
      "image/png": "[encoded data removed]",
      "text/plain": [
       "<PIL.Image.Image image mode=1 size=1095x134 at 0x7F709DC1EF90>"
      ]
     },
     "metadata": {
      "width": 600
     },
     "output_type": "display_data"
    },
    {
     "name": "stdout",
     "output_type": "stream",
     "text": [
      "Detected text:\n",
      "\n",
      " \n",
      "Sur la base de la grande statue de Zeus, a Olympie, Phidias avait\n",
      "Teprésenté les Douze Dieux. Fntre le Soleil (Hélios) et la Lune (Seéléne)\n",
      "eles douze divinités, groupées deux a deux, 5 ordonnaient en six couples :\n",
      " \n"
     ]
    }
   ],
   "source": [
    "for r in pipeline_lh.transform(image_example_df).select(\"image\", \"text\").collect():\n",
    "    display_image(r.image)\n",
    "    print(f\"Detected text:\\n{r.text}\")"
   ]
  },
  {
   "cell_type": "markdown",
   "metadata": {
    "pycharm": {
     "name": "#%% md\n"
    }
   },
   "source": [
    "## Contrast Enhacement (CE)"
   ]
  },
  {
   "cell_type": "code",
   "execution_count": 12,
   "metadata": {
    "pycharm": {
     "name": "#%%\n"
    }
   },
   "outputs": [],
   "source": [
    "contrast_enhacement = ImageEnhanceContrast() \\\n",
    "    .setInputCol(\"image\") \\\n",
    "    .setOutputCol(\"image\") \\\n",
    "    .setClipLimit(4) \\\n",
    "    .setTileGridSize(3)\n",
    "\n",
    "pipeline_ce = PipelineModel(stages=[\n",
    "    binary_to_image,\n",
    "    contrast_enhacement,\n",
    "    ocr\n",
    "])\n"
   ]
  },
  {
   "cell_type": "code",
   "execution_count": 13,
   "metadata": {
    "pycharm": {
     "name": "#%%\n"
    }
   },
   "outputs": [
    {
     "name": "stdout",
     "output_type": "stream",
     "text": [
      "\n",
      "    Image #0:\n",
      "    Origin: file:/home/jose/spark-ocr/workshop/jupyter/text_with_noise.png\n",
      "    Resolution: 95 dpi\n",
      "    Width: 1095 px\n",
      "    Height: 134 px\n",
      "    Mode: ImageType.TYPE_BYTE_BINARY\n",
      "    Number of channels: 1\n"
     ]
    },
    {
     "data": {
      "image/png": "[encoded data removed]",
      "text/plain": [
       "<PIL.Image.Image image mode=1 size=1095x134 at 0x7F7188356350>"
      ]
     },
     "metadata": {
      "width": 600
     },
     "output_type": "display_data"
    },
    {
     "name": "stdout",
     "output_type": "stream",
     "text": [
      "Detected text:\n",
      "\n",
      "“Sur la hase de la grande statue de Zeus. & Olympie, Phidias avail\n",
      "représenté les Douze Dieux. Entre le Soler (Hélios) et lia Lune (Séléne)\n",
      "~-fes douze divinités, groupées deux A deux. s ordonnaient en six couples :\n"
     ]
    }
   ],
   "source": [
    "for r in pipeline_ce.transform(image_example_df).select(\"image\", \"text\").collect():\n",
    "    display_image(r.image)\n",
    "    print(f\"Detected text:\\n{r.text}\")"
   ]
  },
  {
   "cell_type": "markdown",
   "metadata": {
    "pycharm": {
     "name": "#%% md\n"
    }
   },
   "source": [
    "## Glar removing (GR)"
   ]
  },
  {
   "cell_type": "code",
   "execution_count": 14,
   "metadata": {
    "pycharm": {
     "name": "#%%\n"
    }
   },
   "outputs": [],
   "source": [
    "glar_removing = ImageRemoveGlare() \\\n",
    "    .setInputCol(\"image\") \\\n",
    "    .setOutputCol(\"image\")\n",
    "\n",
    "pipeline_gr = PipelineModel(stages=[\n",
    "    binary_to_image,\n",
    "    glar_removing,\n",
    "    ocr\n",
    "])\n"
   ]
  },
  {
   "cell_type": "code",
   "execution_count": 15,
   "metadata": {
    "pycharm": {
     "name": "#%%\n"
    }
   },
   "outputs": [
    {
     "name": "stdout",
     "output_type": "stream",
     "text": [
      "\n",
      "    Image #0:\n",
      "    Origin: file:/home/jose/spark-ocr/workshop/jupyter/text_with_noise.png\n",
      "    Resolution: 95 dpi\n",
      "    Width: 1095 px\n",
      "    Height: 134 px\n",
      "    Mode: ImageType.TYPE_BYTE_BINARY\n",
      "    Number of channels: 1\n"
     ]
    },
    {
     "data": {
      "image/png": "[encoded data removed]",
      "text/plain": [
       "<PIL.Image.Image image mode=1 size=1095x134 at 0x7F709DC10950>"
      ]
     },
     "metadata": {
      "width": 600
     },
     "output_type": "display_data"
    },
    {
     "name": "stdout",
     "output_type": "stream",
     "text": [
      "Detected text:\n",
      "\n",
      "“Sur la hase de la grande statue de Zeus. & Olympie, Phidias avail\n",
      "représenté les Douze Dieux. Entre le Soler (Hélios) et lia Lune (Séléne)\n",
      "~-fes douze divinités, groupées deux A deux. s ordonnaient en six couples :\n"
     ]
    }
   ],
   "source": [
    "for r in pipeline_gr.transform(image_example_df).select(\"image\", \"text\").collect():\n",
    "    display_image(r.image)\n",
    "    print(f\"Detected text:\\n{r.text}\")"
   ]
  },
  {
   "cell_type": "markdown",
   "metadata": {
    "pycharm": {
     "name": "#%% md\n"
    }
   },
   "source": [
    "## Remove Background (RB)"
   ]
  },
  {
   "cell_type": "code",
   "execution_count": 16,
   "metadata": {
    "pycharm": {
     "name": "#%%\n"
    }
   },
   "outputs": [
    {
     "name": "stdout",
     "output_type": "stream",
     "text": [
      "\n",
      "    Image #0:\n",
      "    Origin: file:/home/jose/spark-ocr/workshop/jupyter/text_with_noise.png\n",
      "    Resolution: 95 dpi\n",
      "    Width: 1095 px\n",
      "    Height: 134 px\n",
      "    Mode: ImageType.TYPE_BYTE_BINARY\n",
      "    Number of channels: 1\n"
     ]
    },
    {
     "data": {
      "image/png": "[encoded data removed]",
      "text/plain": [
       "<PIL.Image.Image image mode=1 size=1095x134 at 0x7F7188356350>"
      ]
     },
     "metadata": {
      "width": 600
     },
     "output_type": "display_data"
    },
    {
     "name": "stdout",
     "output_type": "stream",
     "text": [
      "Detected text:\n",
      "\n",
      "“Sur la hase de la grande statue de Zeus. & Olympie, Phidias avail\n",
      "représenté les Douze Dieux. Entre le Soler (Hélios) et lia Lune (Séléne)\n",
      "~-fes douze divinités, groupées deux A deux. s ordonnaient en six couples :\n"
     ]
    }
   ],
   "source": [
    "background_remove = ImageRemoveBackground() \\\n",
    "    .setInputCol(\"image\") \\\n",
    "    .setOutputCol(\"image\") \\\n",
    "    .setBL(260)\n",
    "\n",
    "pipeline_rb= PipelineModel(stages=[\n",
    "    binary_to_image,\n",
    "    background_remove,\n",
    "    ocr\n",
    "])\n",
    "\n",
    "for r in pipeline_rb.transform(image_example_df).select(\"image\", \"text\").collect():\n",
    "    display_image(r.image)\n",
    "    print(f\"Detected text:\\n{r.text}\")"
   ]
  },
  {
   "cell_type": "code",
   "execution_count": null,
   "metadata": {},
   "outputs": [],
   "source": []
  }
 ],
 "metadata": {
  "colab": {
   "collapsed_sections": [],
   "name": "SparkOcrAdaptiveThresholding.ipynb",
   "provenance": []
  },
  "kernelspec": {
   "display_name": "Python 3 (ipykernel)",
   "language": "python",
   "name": "python3"
  },
  "language_info": {
   "codemirror_mode": {
    "name": "ipython",
    "version": 3
   },
   "file_extension": ".py",
   "mimetype": "text/x-python",
   "name": "python",
   "nbconvert_exporter": "python",
   "pygments_lexer": "ipython3",
   "version": "3.7.5"
  },
  "vscode": {
   "interpreter": {
    "hash": "7631773df7a20f76ce0129852d6286a048d5c426a0098a673052d93f81596669"
   }
  }
 },
 "nbformat": 4,
 "nbformat_minor": 1
}
