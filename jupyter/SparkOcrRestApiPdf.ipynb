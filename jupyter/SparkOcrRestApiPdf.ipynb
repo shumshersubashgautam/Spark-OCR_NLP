{
 "cells": [
  {
   "cell_type": "markdown",
   "id": "5f9f07d1",
   "metadata": {
    "id": "5f9f07d1"
   },
   "source": [
    "# Example of building REST API on top of Spark OCR"
   ]
  },
  {
   "cell_type": "code",
   "execution_count": 1,
   "id": "fda5f25e",
   "metadata": {
    "executionInfo": {
     "elapsed": 207,
     "status": "ok",
     "timestamp": 1659990390852,
     "user": {
      "displayName": "Siham Amara",
      "userId": "00787746185340426352"
     },
     "user_tz": 240
    },
    "id": "fda5f25e"
   },
   "outputs": [],
   "source": [
    "secret = \"\"\n",
    "license = \"\"\n",
    "\n",
    "\n",
    "version = secret.split(\"-\")[0]\n",
    "spark_ocr_jar_path = \"../../target/scala-2.11\"\n",
    "AWS_ACCESS_KEY_ID = \"\"\n",
    "AWS_SECRET_ACCESS_KEY = \"\"\n",
    "\n",
    "\n",
    "import os\n",
    "\n",
    "SERVER_HOST = \"localhost\"\n",
    "SERVER_PORT = 8889\n",
    "SERVER_API_NAME = \"spark_ocr_api\"\n",
    "\n",
    "if AWS_ACCESS_KEY_ID != \"\":\n",
    "    os.environ[\"AWS_ACCESS_KEY_ID\"] = AWS_ACCESS_KEY_ID\n",
    "    os.environ[\"AWS_SECRET_ACCESS_KEY\"] = AWS_SECRET_ACCESS_KEY\n",
    "    \n",
    "if license:\n",
    "    os.environ['JSL_OCR_LICENSE'] = license"
   ]
  },
  {
   "cell_type": "code",
   "execution_count": 10,
   "id": "m1BEll3mBAUh",
   "metadata": {
    "executionInfo": {
     "elapsed": 212,
     "status": "ok",
     "timestamp": 1659990658938,
     "user": {
      "displayName": "Siham Amara",
      "userId": "00787746185340426352"
     },
     "user_tz": 240
    },
    "id": "m1BEll3mBAUh"
   },
   "outputs": [],
   "source": [
    "#!pip install synapseml\n",
    "#!pip install --upgrade spark-ocr==4.0.0+spark32 --user --extra-index-url https://pypi.johnsnowlabs.com/$secret --upgrade"
   ]
  },
  {
   "cell_type": "markdown",
   "id": "1dfe39c8",
   "metadata": {
    "id": "1dfe39c8"
   },
   "source": [
    "## Start Spark session"
   ]
  },
  {
   "cell_type": "code",
   "execution_count": 3,
   "id": "2e29ca19",
   "metadata": {
    "colab": {
     "base_uri": "https://localhost:8080/",
     "height": 289
    },
    "executionInfo": {
     "elapsed": 61254,
     "status": "ok",
     "timestamp": 1659990465414,
     "user": {
      "displayName": "Siham Amara",
      "userId": "00787746185340426352"
     },
     "user_tz": 240
    },
    "id": "2e29ca19",
    "outputId": "22177986-18f9-40db-8671-67358e1c0f63"
   },
   "outputs": [
    {
     "name": "stdout",
     "output_type": "stream",
     "text": [
      "Spark version: 3.2.1\n",
      "Spark NLP version: 4.0.0\n",
      "Spark OCR version: 4.0.0\n",
      "\n"
     ]
    },
    {
     "data": {
      "text/html": [
       "\n",
       "            <div>\n",
       "                <p><b>SparkSession - in-memory</b></p>\n",
       "                \n",
       "        <div>\n",
       "            <p><b>SparkContext</b></p>\n",
       "\n",
       "            <p><a href=\"http://f3c6e61c5b8c:4040\">Spark UI</a></p>\n",
       "\n",
       "            <dl>\n",
       "              <dt>Version</dt>\n",
       "                <dd><code>v3.2.1</code></dd>\n",
       "              <dt>Master</dt>\n",
       "                <dd><code>local[*]</code></dd>\n",
       "              <dt>AppName</dt>\n",
       "                <dd><code>Spark OCR</code></dd>\n",
       "            </dl>\n",
       "        </div>\n",
       "        \n",
       "            </div>\n",
       "        "
      ],
      "text/plain": [
       "<pyspark.sql.session.SparkSession at 0x7f3520e16790>"
      ]
     },
     "execution_count": 3,
     "metadata": {},
     "output_type": "execute_result"
    }
   ],
   "source": [
    "from sparkocr import start\n",
    "from pyspark import SparkConf\n",
    "\n",
    "conf = SparkConf() \\\n",
    "   .set(\"spark.jars.packages\", \"com.microsoft.azure:synapseml_2.12:0.9.4\") \\\n",
    "   .set(\"spark.jars.repositories\", \"https://repo1.maven.org/maven2,https://mmlspark.azureedge.net/maven\")\n",
    "\n",
    "spark = start(secret = secret, extra_conf=conf)\n",
    "spark"
   ]
  },
  {
   "cell_type": "markdown",
   "id": "0bb596cf",
   "metadata": {
    "id": "0bb596cf"
   },
   "source": [
    "## Define Spark OCR pipeline"
   ]
  },
  {
   "cell_type": "code",
   "execution_count": 4,
   "id": "aa6b0230",
   "metadata": {
    "executionInfo": {
     "elapsed": 5147,
     "status": "ok",
     "timestamp": 1659990483238,
     "user": {
      "displayName": "Siham Amara",
      "userId": "00787746185340426352"
     },
     "user_tz": 240
    },
    "id": "aa6b0230"
   },
   "outputs": [],
   "source": [
    "import synapse.ml\n",
    "from synapse.ml.io import *\n",
    "import pyspark\n",
    "import tempfile\n",
    "from pyspark.sql.functions import udf, col, length\n",
    "from pyspark.sql.types import *\n",
    "from pyspark.ml import PipelineModel\n",
    "\n",
    "import pyspark.sql.functions as f\n",
    "from sparkocr.transformers import *\n",
    "\n",
    "\n",
    "pdf_to_image = PdfToImage() \\\n",
    "    .setOutputCol(\"image\")\n",
    "\n",
    "ocr = ImageToText() \\\n",
    "    .setInputCol(\"image\")\\\n",
    "    .setOutputCol(\"text\")\n",
    "\n",
    "pipeline = PipelineModel(stages=[\n",
    "    pdf_to_image,\n",
    "    ocr\n",
    "])\n"
   ]
  },
  {
   "cell_type": "markdown",
   "id": "dffe0f21",
   "metadata": {
    "id": "dffe0f21"
   },
   "source": [
    "## Start server"
   ]
  },
  {
   "cell_type": "code",
   "execution_count": 5,
   "id": "a60e6ad0",
   "metadata": {
    "colab": {
     "base_uri": "https://localhost:8080/"
    },
    "executionInfo": {
     "elapsed": 6572,
     "status": "ok",
     "timestamp": 1659990494503,
     "user": {
      "displayName": "Siham Amara",
      "userId": "00787746185340426352"
     },
     "user_tz": 240
    },
    "id": "a60e6ad0",
    "outputId": "86996960-2b3f-41ad-c73a-b13950940cc3"
   },
   "outputs": [
    {
     "name": "stderr",
     "output_type": "stream",
     "text": [
      "/root/.local/lib/python3.7/site-packages/pyspark/sql/context.py:127: FutureWarning: Deprecated in 3.0.0. Use SparkSession.builder.getOrCreate() instead.\n",
      "  FutureWarning\n"
     ]
    },
    {
     "name": "stdout",
     "output_type": "stream",
     "text": [
      "Checkpoint: <TemporaryDirectory '/tmp/tmpejopbze7_spark_ocr_server_checkpoint'>\n"
     ]
    }
   ],
   "source": [
    "checkpoint_dir = tempfile.TemporaryDirectory(\"_spark_ocr_server_checkpoint\")\n",
    "\n",
    "df = spark.readStream.server() \\\n",
    "    .address(SERVER_HOST, SERVER_PORT, SERVER_API_NAME) \\\n",
    "    .load() \\\n",
    "    .parseRequest(SERVER_API_NAME, schema=StructType().add(\"image\", BinaryType())) \\\n",
    "    .withColumn(\"path\", f.lit(\"\")) \\\n",
    "    .withColumnRenamed(\"image\", \"content\")\n",
    "\n",
    "replies = pipeline.transform(df)\\\n",
    "    .makeReply(\"text\") \n",
    "\n",
    "server = replies\\\n",
    "    .writeStream \\\n",
    "    .server() \\\n",
    "    .replyTo(SERVER_API_NAME) \\\n",
    "    .queryName(\"spark_ocr\") \\\n",
    "    .option(\"checkpointLocation\", checkpoint_dir) \\\n",
    "    .start()\n",
    "\n",
    "print(f\"Checkpoint: {checkpoint_dir}\")"
   ]
  },
  {
   "cell_type": "markdown",
   "id": "7c872a33",
   "metadata": {
    "id": "7c872a33"
   },
   "source": [
    "# Call API\n",
    "\n",
    "Display image"
   ]
  },
  {
   "cell_type": "code",
   "execution_count": 7,
   "id": "c57f4c4b",
   "metadata": {
    "executionInfo": {
     "elapsed": 7,
     "status": "ok",
     "timestamp": 1659990520909,
     "user": {
      "displayName": "Siham Amara",
      "userId": "00787746185340426352"
     },
     "user_tz": 240
    },
    "id": "c57f4c4b"
   },
   "outputs": [],
   "source": [
    "import pkg_resources\n",
    "import json\n",
    "import base64\n",
    "import requests\n",
    "from IPython.display import Image\n",
    "\n",
    "imagePath = pkg_resources.resource_filename('sparkocr', '/resources/ocr/pdfs/test_document.pdf')\n",
    "\n",
    "#display(Image(filename=imagePath))"
   ]
  },
  {
   "cell_type": "markdown",
   "id": "433836ef",
   "metadata": {
    "id": "433836ef"
   },
   "source": [
    "## Send request"
   ]
  },
  {
   "cell_type": "code",
   "execution_count": 8,
   "id": "a3bf3cbf",
   "metadata": {
    "colab": {
     "base_uri": "https://localhost:8080/"
    },
    "executionInfo": {
     "elapsed": 51225,
     "status": "ok",
     "timestamp": 1659990577653,
     "user": {
      "displayName": "Siham Amara",
      "userId": "00787746185340426352"
     },
     "user_tz": 240
    },
    "id": "a3bf3cbf",
    "outputId": "235c4986-c8c8-4b43-e411-569d6b352aa9"
   },
   "outputs": [
    {
     "name": "stdout",
     "output_type": "stream",
     "text": [
      "Response:\n",
      "\n",
      "Patient Nam\n",
      "Financial Numbe\n",
      "\n",
      "Random Hospital Date of Birth\n",
      "\n",
      "Patient Location\n",
      "\n",
      "t\n",
      "ere st eee - eR eo ee. - ee 8 ee et —— oe\n",
      "\n",
      "Chief Complaint\n",
      "Shortness of breath\n",
      "\n",
      "History of Present Illness\n",
      "\n",
      "Patient is an 84-year-old male wilh a past medical history of hypertension, HFpEF last\n",
      "known EF 55%, mild to moderate TA, pulmonary hypertension, permanent atrial\n",
      "fibrillation on Eliquis, history of GI blesd, CK-M8, and anemia who presents with full weeks\n",
      "oi ccneralized fatigue and fecling unwell. He also notes some shortness oi Breath and\n",
      "worsening dyspnea willy minimal exerlion. His major complaints are shoulder and joint\n",
      "pains. diffusely. He also complains of \"bone pain’. He denics having any fevers or cnills.\n",
      "\n",
      "e demes having any chest pain, palpitalicns, He denies any worse extremity\n",
      "swelling than his baseline. He states he’s been compliant with his mcdications. Although\n",
      "he stales he ran out of his Eliquis & few weeks ago. He denies having any blood in his\n",
      "stools or mc!ena, although he does take iron pills and states his stools arc irequently black.\n",
      "His hemoglobin Is al baseline.\n",
      "\n",
      "Twelve-lead EKG showing atrial fibrillation, RBBB, LAFB, PVC. Chest x-ray showing new\n",
      "small right creater than left pleural effusions with mild pulmonary vascular congestion. BNP\n",
      "increased to 2800, up fram 1900. Tropoain 0.03. Renal function at baseline. Hemoaglopin\n",
      "at baseline.\n",
      "\n",
      "She normally takes 80 mq of oral Lasix daily. He was given 80 mg of IV Lasix in the ED.\n",
      "He is currently net negative close to 1 L. He is still on 2 L nasal cannula.\n",
      "\n",
      "' Ss 5\n",
      "A 10 system roview af systems was completed and negative except as documented in HPI.\n",
      "\n",
      "Physical Exam\n",
      "\n",
      "Vitals & Measurements\n",
      "T: 36.8 °C (Oral) TMIN: 36.8 \"C (Oral) TMAX: 37.0 °C (Oral) HR: 54 RR: 7\n",
      "BP: 140/63 WT: 100.3 KG\n",
      "Pulse Ox: 100 % Oxygen: 2 L'min via Nasal Cannula\n",
      "GENERAL: no acute distress\n",
      "HEAD: normecephalic\n",
      "EYES‘EARS‘NOSE/THAOAT: nupils are equal. normal oropharynx\n",
      "NECK: normal inspection\n",
      "RESPIRATORY: no respiratory distress, no rales on my exam\n",
      "CARDIOVASCULAR: irregular. brady. no murmurs, rubs or galleps\n",
      "ABDOMEN: soft, non-tendes\n",
      "EXTREMITIES: Bilateral chronic venous stasis changes\n",
      "NEUROLOGIC: alert and osieniec x 3. no gross motar or sensory deficils\n",
      "\n",
      "AssessmenvPlan\n",
      "\n",
      "Acute on chronic diastolic CHF (congestive heart failure)\n",
      "Acute on chronic diastolic heart failure exacerbation. Small pleural effusions dilaterally\n",
      "\n",
      "with mild pulmonary vascular congesiion on chest x-ray, slighi elevation in BNR. We'll\n",
      "continue 1 more day af IV diuresis with 80 mg IV Lasix. He may have had a viral infection\n",
      "which precipilated this. We'll add Tylenol jor his joint paias. Continue atenclol and\n",
      "chiorthalidone.\n",
      "\n",
      "AF - Atrial fibrillation\n",
      "Permanent atrial fibrillation. Rates bradycardic in the &0s. Continue atenolol with hola\n",
      "\n",
      "parameters. Coniinue Eliquis for stroke prevention. No evidence oj bleeding, hemog'abin\n",
      "at baseline.\n",
      "\n",
      "Printed: 7/17/2017 13:01 EDT Page 16 of 42\n",
      "\n",
      "ee ee eee ee we ee\n",
      "\n",
      "  \n",
      "   \n",
      "\n",
      "-—- — ~— _—\n",
      "\n",
      "Arincitis\n",
      "\n",
      "CHF - Congestive heart failure\n",
      "\n",
      "Chronic kidney disease\n",
      "\n",
      "Chronic venous insufficiency\n",
      "\n",
      "Edema\n",
      "\n",
      "GI bleeding\n",
      "\n",
      "Glaucoma\n",
      "\n",
      "Goul\n",
      "\n",
      "Hypertension\n",
      "\n",
      "Peptic ulcer\n",
      "\n",
      "Peripheral ncuropathy\n",
      "\n",
      "Peripheral vascular disease\n",
      "\n",
      "Pulmonary hypertension\n",
      "\n",
      "Tricuspid regurgitation\n",
      "Historical\n",
      "\n",
      "No qualifying data\n",
      "\n",
      "Procedure/Surgical History\n",
      "\n",
      "duodenal resection, duodenojcjunostomy.\n",
      "small bowel enterolomy, removal of foreign\n",
      "object and repair oi enterotomy (05/2 1/20 14),\n",
      "colonoscopy (12/10/2013), egd (1209/2013),\n",
      "H/O endoscopy (07/2013), H’O colonoscopy\n",
      "(03/2013), pilonidal cyst removal at base of\n",
      "spine (1981), laser eye surgery ior glaucoma.\n",
      "lesions on small intestine closed up.\n",
      "\n",
      "Home Medications\n",
      "Home\n",
      "\n",
      "allopurinol 300 mg oral tablet, 300 MG= 1\n",
      "TAB, PO. Daily\n",
      "\n",
      "atenolol 25 mg oral tablet, 25 MG= 1 TAB,\n",
      "PO, Daily\n",
      "\n",
      "chtorthalidone 25 mg oral tablet, 23 MG=\n",
      "1 TAB, PO, MVE\n",
      "\n",
      "Combigan 0.2%-0.5% ophthalmic\n",
      "solution, 1 DROP, Both Eyes, Q12H\n",
      "\n",
      "Eliquis 5 mg oral lablet, 5 MG= 1 TAB,\n",
      "PO, BID\n",
      "\n",
      "lerrous sulfate 925 mg (65 nig elemental\n",
      "iron) oral tablet, 325 MG= 1 TAB, PO,\n",
      "\n",
      "Daily\n",
      "Lasix 80 mg oral tabic:. 80 MG= | TAB.\n",
      "PO, BID\n",
      "\n",
      "omeprazole 20 mg oral delayed scicasc\n",
      "capsule, 20 MG= 1 CAP, PO, BID\n",
      "\n",
      "Percocei 5/325 oral tablet. | TAB, PO.\n",
      "QAM\n",
      "\n",
      "potassium chloride 20 mEq oral tablet,\n",
      "extended release, 20 MEO= 1 TAB, PO,\n",
      "Daily\n",
      "\n",
      "sertraline 50 mg oral tablet, 75 MG= 1,5\n",
      "TAB, PQ. Daiiy\n",
      "\n",
      "triamcinolone 0.71% lopical cream, 1 APP,\n",
      "Topical, Daily\n",
      "\n",
      "lriamcmnolone 0.1% lopical ominient, 1\n",
      "APP. Topical, Daily\n",
      "\n",
      "PowerChart\n",
      "\n"
     ]
    }
   ],
   "source": [
    "with open(imagePath, \"rb\") as image_file:\n",
    "    im_bytes = image_file.read() \n",
    "\n",
    "im_b64 = base64.b64encode(im_bytes).decode(\"utf8\")\n",
    "\n",
    "headers = {'Content-type': 'application/json', 'Accept': 'text/plain'}\n",
    "  \n",
    "payload = json.dumps({\"image\": im_b64})\n",
    "r = requests.post(data=payload, headers=headers, url=f\"http://{SERVER_HOST}:{SERVER_PORT}/{SERVER_API_NAME}\")\n",
    "\n",
    "print(\"Response:\\n\\n{}\".format(r.text))"
   ]
  },
  {
   "cell_type": "markdown",
   "id": "75d7aec1",
   "metadata": {
    "id": "75d7aec1"
   },
   "source": [
    "## Stop server"
   ]
  },
  {
   "cell_type": "code",
   "execution_count": 9,
   "id": "c24bd5cb",
   "metadata": {
    "executionInfo": {
     "elapsed": 201,
     "status": "ok",
     "timestamp": 1659990639479,
     "user": {
      "displayName": "Siham Amara",
      "userId": "00787746185340426352"
     },
     "user_tz": 240
    },
    "id": "c24bd5cb"
   },
   "outputs": [],
   "source": [
    "server.stop()"
   ]
  },
  {
   "cell_type": "code",
   "execution_count": null,
   "id": "3LMq8B-VGg9E",
   "metadata": {
    "id": "3LMq8B-VGg9E"
   },
   "outputs": [],
   "source": []
  }
 ],
 "metadata": {
  "colab": {
   "collapsed_sections": [],
   "name": "SparkOcrRestApiPdf.ipynb",
   "provenance": []
  },
  "kernelspec": {
   "display_name": "Python 3 (ipykernel)",
   "language": "python",
   "name": "python3"
  },
  "language_info": {
   "codemirror_mode": {
    "name": "ipython",
    "version": 3
   },
   "file_extension": ".py",
   "mimetype": "text/x-python",
   "name": "python",
   "nbconvert_exporter": "python",
   "pygments_lexer": "ipython3",
   "version": "3.7.5"
  }
 },
 "nbformat": 4,
 "nbformat_minor": 5
}
