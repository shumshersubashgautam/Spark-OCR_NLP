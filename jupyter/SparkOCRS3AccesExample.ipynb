{
 "cells": [
  {
   "cell_type": "markdown",
   "metadata": {},
   "source": [
    "# Ecxample of processing data from S3 using Spark OCR\n",
    "## Initialize spark session"
   ]
  },
  {
   "cell_type": "code",
   "execution_count": 1,
   "metadata": {},
   "outputs": [],
   "source": [
    "secret = \"\"\n",
    "license = \"\"\n",
    "AWS_ACCESS_KEY_ID = \"\"\n",
    "AWS_SECRET_ACCESS_KEY = \"\"\n",
    "version = secret.split(\"-\")[0]\n",
    "spark_ocr_jar_path = \"../../target/scala-2.12\""
   ]
  },
  {
   "cell_type": "code",
   "execution_count": 2,
   "metadata": {},
   "outputs": [],
   "source": [
    "%%bash\n",
    "if python -c 'import google.colab' &> /dev/null; then\n",
    "    echo \"Run on Google Colab!\"\n",
    "    echo \"Install Open JDK\"\n",
    "    apt-get install -y openjdk-8-jdk-headless -qq > /dev/null\n",
    "    java -version\n",
    "fi"
   ]
  },
  {
   "cell_type": "code",
   "execution_count": 3,
   "metadata": {},
   "outputs": [],
   "source": [
    "import sys\n",
    "import os\n",
    "\n",
    "if 'google.colab' in sys.modules:\n",
    "  os.environ[\"JAVA_HOME\"] = \"/usr/lib/jvm/java-8-openjdk-amd64\"\n",
    "  os.environ[\"PATH\"] = os.environ[\"JAVA_HOME\"] + \"/bin:\" + os.environ[\"PATH\"]"
   ]
  },
  {
   "cell_type": "code",
   "execution_count": 4,
   "metadata": {},
   "outputs": [],
   "source": [
    "# install from PYPI using secret\n",
    "#%pip install spark-ocr==$version+spark30 --extra-index-url=https://pypi.johnsnowlabs.com/$secret --upgrade"
   ]
  },
  {
   "cell_type": "markdown",
   "metadata": {},
   "source": [
    "## Initialization of spark session"
   ]
  },
  {
   "cell_type": "code",
   "execution_count": 5,
   "metadata": {},
   "outputs": [],
   "source": [
    "# make sure we add the right dep\n",
    "import pyspark\n",
    "spark_to_aws_hadoop = {\"3.0\": \"2.7.4\", \"3.1\": \"3.2.0\", \"3.2\": \"3.3.1\", \"3.3\": \"3.3.2\", \"3.4\":\"3.3.4\"}\n",
    "spark_version = pyspark.__version__[:3]\n",
    "aws_version = spark_to_aws_hadoop[spark_version]"
   ]
  },
  {
   "cell_type": "code",
   "execution_count": 6,
   "metadata": {},
   "outputs": [
    {
     "name": "stdout",
     "output_type": "stream",
     "text": [
      "Spark version: 3.3.0\n",
      "Spark NLP version: 4.0.0\n",
      "Spark NLP for Healthcare version: 4.0.0\n",
      "Spark OCR version: 4.0.1\n",
      "\n"
     ]
    },
    {
     "data": {
      "text/html": [
       "\n",
       "            <div>\n",
       "                <p><b>SparkSession - in-memory</b></p>\n",
       "                \n",
       "        <div>\n",
       "            <p><b>SparkContext</b></p>\n",
       "\n",
       "            <p><a href=\"http://192.168.0.14:4041\">Spark UI</a></p>\n",
       "\n",
       "            <dl>\n",
       "              <dt>Version</dt>\n",
       "                <dd><code>v3.3.0</code></dd>\n",
       "              <dt>Master</dt>\n",
       "                <dd><code>local[*]</code></dd>\n",
       "              <dt>AppName</dt>\n",
       "                <dd><code>Spark OCR</code></dd>\n",
       "            </dl>\n",
       "        </div>\n",
       "        \n",
       "            </div>\n",
       "        "
      ],
      "text/plain": [
       "<pyspark.sql.session.SparkSession at 0x7fd234569d50>"
      ]
     },
     "execution_count": 6,
     "metadata": {},
     "output_type": "execute_result"
    }
   ],
   "source": [
    "import os\n",
    "from pyspark.sql import SparkSession\n",
    "from pyspark import SparkConf\n",
    "from sparkocr import start\n",
    "\n",
    "if AWS_ACCESS_KEY_ID != \"\":\n",
    "    os.environ[\"AWS_ACCESS_KEY_ID\"] = AWS_ACCESS_KEY_ID\n",
    "    os.environ[\"AWS_SECRET_ACCESS_KEY\"] = AWS_SECRET_ACCESS_KEY\n",
    "    \n",
    "if license:\n",
    "    os.environ['JSL_OCR_LICENSE'] = license\n",
    "\n",
    "# set additinal dependensies for read data from S3\n",
    "conf = SparkConf() \\\n",
    "    .set(\"spark.jars.packages\", \"org.apache.hadoop:hadoop-aws:\"+aws_version)\n",
    "# or you can set AWS API Keys here\n",
    "#    .set('spark.hadoop.fs.s3a.access.key', \"your key\" ) \\\n",
    "#    .set('spark.hadoop.fs.s3a.secret.key', \"your secret\")\n",
    "\n",
    "spark = start(secret=secret, jar_path=spark_ocr_jar_path, extra_conf=conf)\n",
    "spark.sparkContext._jsc.hadoopConfiguration().set(\"fs.s3a.path.style.access\", \"true\")\n",
    "spark"
   ]
  },
  {
   "cell_type": "markdown",
   "metadata": {},
   "source": [
    "## Imports"
   ]
  },
  {
   "cell_type": "code",
   "execution_count": 7,
   "metadata": {},
   "outputs": [],
   "source": [
    "from pyspark.ml import PipelineModel\n",
    "\n",
    "from sparkocr.transformers import *\n",
    "from sparkocr.utils import display_image"
   ]
  },
  {
   "cell_type": "markdown",
   "metadata": {},
   "source": [
    "## Define paths to images on S3"
   ]
  },
  {
   "cell_type": "code",
   "execution_count": 8,
   "metadata": {},
   "outputs": [],
   "source": [
    "images_path = \"s3a://dev.johnsnowlabs.com/ocr/datasets/news.2B/0/*.tif\""
   ]
  },
  {
   "cell_type": "markdown",
   "metadata": {},
   "source": [
    "## Read images"
   ]
  },
  {
   "cell_type": "code",
   "execution_count": 9,
   "metadata": {},
   "outputs": [
    {
     "data": {
      "text/plain": [
       "18"
      ]
     },
     "execution_count": 9,
     "metadata": {},
     "output_type": "execute_result"
    }
   ],
   "source": [
    "images = spark.read.format(\"binaryFile\").load(images_path).cache()\n",
    "images.count()"
   ]
  },
  {
   "cell_type": "markdown",
   "metadata": {},
   "source": [
    "## Define OCR pipeline "
   ]
  },
  {
   "cell_type": "code",
   "execution_count": 10,
   "metadata": {},
   "outputs": [],
   "source": [
    "# Transform binary to image\n",
    "binary_to_image = BinaryToImage()\n",
    "binary_to_image.setOutputCol(\"image\")\n",
    "\n",
    "# Run OCR for each region\n",
    "ocr = ImageToText()\n",
    "ocr.setInputCol(\"image\")\n",
    "ocr.setOutputCol(\"text\")\n",
    "ocr.setIgnoreResolution(False)\n",
    "\n",
    "# OCR pipeline\n",
    "pipeline = PipelineModel(stages=[\n",
    "    binary_to_image,\n",
    "    ocr\n",
    "])"
   ]
  },
  {
   "cell_type": "markdown",
   "metadata": {},
   "source": [
    "## Run OCR pipeline"
   ]
  },
  {
   "cell_type": "code",
   "execution_count": 11,
   "metadata": {},
   "outputs": [],
   "source": [
    "results = pipeline.transform(images)"
   ]
  },
  {
   "cell_type": "markdown",
   "metadata": {},
   "source": [
    "## Show results"
   ]
  },
  {
   "cell_type": "code",
   "execution_count": 12,
   "metadata": {},
   "outputs": [
    {
     "name": "stdout",
     "output_type": "stream",
     "text": [
      "+-----------------------------------------------------------------+-------------------------------------------------------------------------------------------------------------------------------------------------------------------------------------------------------------------------------------------------------------------------------------------------------------------------------------------------------------------------------------------------------------------------------------------------------------------------------------------------------------------------------------------------------------------------------------------------------------------------------------------------------------------------------------------------------------------------------------------------------------------------------------------------------------------------------------------------------------------------------------------------------------------------------------------------------------------------------------------------------------------------------------------------------------------------------------------------------------------------------------------------------------------------------------------------------------------------------------------------------------------------------------------------------------------------------------------------------------------------------------------------------------------------------------------------------------------------------------------------------------------------------------------------------------------------------------------------------------------------------------------------------------------------------------------------------------------------------------------------------------------------------------------------------------------------------------------------------------------------------------------------------------------------------------------------------------------------------------------------------------------------------------------------------------------------------------------------------------------------------------------------------------------------------------------------------------------------------------------------------------------------------------------------------------------------------------------------------------------------------------------------------------------------------------------------------------------------------------------------------------------------------------------------------------------------------------------------------------------------------------------------------------------------------------------------------------------------------------------------------------------------------------------------------------------------------------------------------------------------------------------------------------------------------------------------------------------------------------------------------------------------------------------------------------------------------------------------------------------------------------------------------------------------------------------------------------------------------------------------------------------------------------------------------------------------------------------------------------------------------------------------------------------------------------------------------------------------------------------------------------------------------------------------------------------------------------------------------------------------------------------------------------------------------------------------------------------------------------------------------------------------------------------------------------------------------------------------------------------------------------------------------------------------------------------------------------------+\n",
      "|path                                                             |text                                                                                                                                                                                                                                                                                                                                                                                                                                                                                                                                                                                                                                                                                                                                                                                                                                                                                                                                                                                                                                                                                                                                                                                                                                                                                                                                                                                                                                                                                                                                                                                                                                                                                                                                                                                                                                                                                                                                                                                                                                                                                                                                                                                                                                                                                                                                                                                                                                                                                                                                                                                                                                                                                                                                                                                                                                                                                                                                                                                                                                                                                                                                                                                                                                                                                                                                                                                                                                                                                                                                                                                                                                                                                                                                                                                                                                                                                                                                                               |\n",
      "+-----------------------------------------------------------------+-------------------------------------------------------------------------------------------------------------------------------------------------------------------------------------------------------------------------------------------------------------------------------------------------------------------------------------------------------------------------------------------------------------------------------------------------------------------------------------------------------------------------------------------------------------------------------------------------------------------------------------------------------------------------------------------------------------------------------------------------------------------------------------------------------------------------------------------------------------------------------------------------------------------------------------------------------------------------------------------------------------------------------------------------------------------------------------------------------------------------------------------------------------------------------------------------------------------------------------------------------------------------------------------------------------------------------------------------------------------------------------------------------------------------------------------------------------------------------------------------------------------------------------------------------------------------------------------------------------------------------------------------------------------------------------------------------------------------------------------------------------------------------------------------------------------------------------------------------------------------------------------------------------------------------------------------------------------------------------------------------------------------------------------------------------------------------------------------------------------------------------------------------------------------------------------------------------------------------------------------------------------------------------------------------------------------------------------------------------------------------------------------------------------------------------------------------------------------------------------------------------------------------------------------------------------------------------------------------------------------------------------------------------------------------------------------------------------------------------------------------------------------------------------------------------------------------------------------------------------------------------------------------------------------------------------------------------------------------------------------------------------------------------------------------------------------------------------------------------------------------------------------------------------------------------------------------------------------------------------------------------------------------------------------------------------------------------------------------------------------------------------------------------------------------------------------------------------------------------------------------------------------------------------------------------------------------------------------------------------------------------------------------------------------------------------------------------------------------------------------------------------------------------------------------------------------------------------------------------------------------------------------------------------------------------------------------------------+\n",
      "|s3a://dev.johnsnowlabs.com/ocr/datasets/news.2B/0/8230_022.2B.tif|‘Supermax’ home for feds’\\n\\nFLORENCE — Beneath 34-foot-high\\nguard towers, workmen are putting the\\nfinishing touches on ‘‘Supermax,”’ also\\nknown as “the Aleatraz of the Rockies.”\\n\\nThis is the part of the federal prison\\ncomplex that will house the nation’s most\\nnotorious, most dangerous and most en-\\ndangered male prisoners.\\n\\nIt is intended to augment or possibly\\nsupplant the “maximum-custody” prison\\nin Marion, Ili., which in turn replaced the\\nfederal penal island of Alcatraz, in the\\nmiddle of San Francisco Bay, in 1963.\\n\\nBecause of the legendary heritage of Al-\\ncatraz and, to a lesser degree, Marion, Su-\\npermax in Florence is already rich in folk-\\nlore, even though it won’t open for several\\nmore months.\\n\\nWarden Bill Story, 54, is anxious to dis-\\npel what he calls the public’s misunder-\\nstandings about ‘U.S. Penitentiary /Ad-\\nministrative Maximum,” Supermax’s\\nformal name.\\n\\nContrary to popular belief, Story said,\\nmost of the 556 prisoners at Supermax\\nwill not be kept in their single-cot cells 23\\nhours a day. Nor will all its prisoners, of-\\nten referred to as ‘‘the worst of the worst,”\\nbe required to eat in their cells. And they\\nwon’t all be prohibited from attending re-\\nligious services or other group activities.\\n\\nIndividual cells in Supermax’s “control\\nunit” will house 64 inmates 23 hours a day,\\nas will a separate 72-cell segregation unit,\\nwhich Story calls “a jail within a jail.” In-\\nmates held in this rigid system of confine-\\nment will be permitted one hour a day out-\\nside their cells to exercise.\\n\\nThe other inmates will have access to\\ngroup activities and be permitted out of\\ntheir cells for anywhere from three to 12\\nhours a day.\\n\\nSupermax also will have four VIP cells\\nshould it receive an inmate with extraor-\\n\\n \\n\\n \\n\\n \\n\\n \\n\\n \\n\\n \\n\\n \\n\\nates\\nPaya dt Sail\\nfee aaa\\n\\n \\n\\n \\n\\nThe Denver Post / Helen H. Dav\\n\\nPRISON PROTEST: About 125 protesters concerned _ outside the federal prison complex in this 1992 photo. One «\\n\\nabout the plight of American Indians staged a peaceful vigil\\n\\nUnlike Marion, where the worst prison-\\ners are held in basement cells, all cells at\\n\\nSupermax have windows. In Marion, cells\\npangad fream £4 ta Of ecnoinare fant Thaca in\\n\\nthe major concerns was the treatment of inmates.\\n\\nStill, “you can never say this is escape-\\nproof, because that could come back to\\nhaunt you,” said Story.\\n\\nbeen manipulators all of their lives an\\nthey can work people,” said Story, who\\nactively recruiting guards with extensiy\\n\\novnoroanngo\\n                                                                                                                                                                                                                                                                                                                                                                                                                                                                                                                                                                                                                                                                                                                                                                                                                                                                                                                                                                                                                                                                                                                                                                                                                                                                                                    |\n",
      "|s3a://dev.johnsnowlabs.com/ocr/datasets/news.2B/0/8230_014.2B.tif| \\n\\nSherwood\\nForest\\nshrinking\\nrapidly\\n\\nMerry men wouldn't\\nrecognize hideout\\n\\nBy William E. Schmidt\\nThe New York Times\\n\\nNOTTINGHAM, England — There isn’t\\nmuch left of Sherwood Forest, and what\\nthere is, Robin Hood would hardly recog-\\nnize.\\n\\nFarmland, pasture, coal mines and ur-\\nban sprawl have claimed most of the\\ntrees. Where there is greenwood, it con-\\nsists mostly of dense stands of Mediterra-\\nnean pine, imported and planted by the\\ngovernment after World War I as a timber\\ncash crop.\\n\\nBut while Sherwood Forest is only a thin\\nwisp of its medieval past, its scattered\\nremnants are at the heart of national de-\\nbate over the future of Britain’s public\\nforest lands.\\n\\nPrime Minister John Major’s Conserva-\\ntive government is contemplating whether\\nto turn over to private investors control of\\n4,355 square miles of woodland and heath,\\nnearly 5 percent of the nation’s land area.\\nThe land is now managed by the Forestry\\nCommission, Britain’s largest landowner.\\n\\nProponents of free-market economics in\\nthe Tory government argue that privatiza-\\ntion of Britain’s forests, like the earlier\\nprivatization of airlines and utilities,\\nwould draw fresh investment and help re-\\nnew the moribund timber industry.\\n\\n \\n\\nas\\n\\nTHE STORIES IT COULD TELL: The Major Oak in\\nSherwood Forest, estimated by some to be 800 years old,\\n\\nthusiasts has mounted a loud campaign,\\nwarning that selling these lands would\\nsharply reduce public access to them.\\n\\n“Now that the coal industry has col-\\nlapsed, we view our forests as the heart of\\nour county and the key to our future,” said\\nGareth Broome, the forestry officer for\\nNottinghamshire. ‘We obviously don’t\\nwant to see them fall into the hands of pri-\\nvate owners more interested in profit than\\npublic access.”\\n\\nFew groups are as organized and vocal\\nas Britain’s vast army of hill walkers. hik-\\n\\ncountryside. Walking is ritually listed in\\nsurveys as Britons’ favorite outdoor activ-\\nity.\\n\\nBut unlike the national forests and\\nparks of the United States, nearly all of\\nBritain’s undeveloped forest, coast and\\nmoorland is in the hands of private owners\\n— landed families, mostly, who have con-\\ntrolled it for centuries.\\n\\nGovernment officials insist that no deci-\\nsion has been made on the fate of the for-\\nest lands, and have promised to do what-\\never is necessary to insure public access.\\n\\n   \\n\\nNew York Times / Jonathan Playe\\n\\ncould have been a sapling in Robin Hood’s day. Most of the\\nforest in now open farmland.\\n\\ntaching covenants guaranteeing public ac\\ncess.\\n\\nAccording to a study published in Feb-\\nruary by the Ramblers’ Association, a hik-:\\ners’ group that claims 95,000 members\\nnearly 85 percent of the 250,000 acres oi\\nForestry Commission lands sold off to pri-\\nvate owners since 1981 has since beer\\nclosed to the public.\\n\\n“Robin Hood and his colleagues woulc\\nrise from the grave if they knew what this\\nwicked government was doings.” said Pad.\\n                                                                                                                                                                                                                                                                                                                                                                                                                                                                                                                                                                                                                                                                                                                                                                                                                                                              |\n",
      "|s3a://dev.johnsnowlabs.com/ocr/datasets/news.2B/0/8250_007.2B.tif| \\n\\nAlien sex? Harvard prof believes it\\n\\nExperiences with extraterrestrial real, he says\\n\\nBy ANNE THOMPSON\\nAssociated Press\\n\\nCAMBRIDGE, Mass. — Dr. John\\nMack, a Harvard psychiatrist, has\\nnever had sex with a space alien, nor\\ndoes he care to. It could compromise\\nhis objectivity.\\n\\nMack, a Pulitzer Prize winner,\\nfirmly believes those people who say\\nthey had extremely close encounters\\nwith beings from other worlds.\\n\\nAnd in his new book, “Abduc-\\ntion,” he relates his findings after\\nspending four years studying 120\\n“experiencers” — people who say\\nthey had sexual or reproductive ex-\\nperiences with aliens who abducted\\nthem and took them aboard space-\\nships.\\n\\nThe 13 case studies in his book\\ninclude Ed, who remembers an alien\\nwoman taking a sperm sample from\\nhim when he was in high school;\\nJerry, who says she gave birth to a\\nhuman-alien hybrid; and Peter, who\\ntells Mack he had an “alien wife” ina\\n“parallel universe.”\\n\\n“There is a consistent reproduc-\\ntive theme,” Mack said. “Now, do I\\nmean by that literally there are mil-\\nlions of babies being made? I don’t\\nknow. I can’t claim that this is occur-\\n\\nring literally in our physical dimen-\\nsion of reality.”\\n\\nWhat Mack does claim is that\\nexperiencers are not mentally ill and\\nare not working out the effects of\\nrape, incest or other abuse. Their\\nemotional and psychological state\\nresembles trauma, he said, and trau-\\nma is the response to something\\noutside the body, not inside the mind.\\n\\n“They don’t want to believe it any\\nmore than we do,” he said. “They\\nwant me to find them crazy.”\\n\\nDescriptions of abductions are\\nconsistent from patient to patient,\\nMack said. So he believes the exper-\\niencers, even if he can’t explain\\nexactly what they experienced.\\n\\nOne of Mack’s patients, a 37-year-\\nold undercover debunker, told Time\\nmagazine that Mack gave her UFO\\nliterature to read before he hypno-\\ntized her.\\n\\n“John made it obvious what he\\nwanted to hear,” the patient, Donna\\nBassett, said. “I provided the an-\\nswers.””\\n\\nMack could not be located to\\nrespond to Bassett’s allegations. He\\ndeclined to comment to the magazine\\nabout her case.\\n\\nHis accomplishments include\\n\\nfounding the psychiatry department\\nat the Harvard-affiliated Cambridge\\nHospital and winning a 1977 Pulitzer\\nfor his psychoanalytic biography of\\nT.E. Lawrence (Lawrence of Arabia).\\n\\nSince then, Mack has developed\\nan interest in Eastern philosophy and\\nreligion, and believes it helped liber-\\nate his thinking.\\n\\n“We don’t have room in our cul-\\nture for this. It’s the elite people, my\\ncolleagues, who decide what we're\\nsupposed to believe,” he said, “and to\\nthem this isn’t supposed to be.”\\n\\nEven Mack’s fellow researchers\\ninto the otherworldly think “‘Abduc-\\ntion” is a little, well, out there.\\n\\nDr. William McCall, a physician in\\nAnaheim, Calif., said that for 10 years\\nhe used hypnosis to evaluate exper-\\niencers. His theory: They’re actually\\nremembering being born. People’s\\nmemories of going aboard spacecraft\\nmatch their hypnosis-evoked memo-\\nries of passing through the birth\\ncanal, he said.\\n\\nBudd Hopkins, a pioneer in UFO\\nabduction research, said that while\\nhe agrees with Mack that these\\npeople had sexual encounters with\\naliens, he has reservations about\\nMack’s counseling of people to see\\n\\n \\n\\n \\n\\nSUSAN WALSH / ASSOCIATED PRESS\\nDr. John Mack, a Harvard psychi-\\natrist, says sexual experiences\\nwith extraterrestrials are real.\\n\\nthe experience as somehow enrich-\\ning. Hopkins said he sees such ex-\\nperiences as neither good nor bad.\\n“T think John is putting a quasi-\\nreligious spin on the material that\\nmakes the book more vulnerable to\\ncriticism,” said Hopkins, a New York\\nartist who has researched and writ-\\nten about experiencers for 19 years.\\n|\n",
      "|s3a://dev.johnsnowlabs.com/ocr/datasets/news.2B/0/8200_006.2B.tif|Tobacco chiefs still refuse to see the truth abou\\n\\neven of America’s least conscionable\\nS men sat together in Washington last\\n\\nweek to do what they do best: blow\\nsmoke at the truth about cigarettes.\\n\\nThe CEOs of the nation’s largest tobacco\\nfirms told a congressional panel that nicotine\\nis not addictive, that they are unconvinced\\nthat smoking causes lung cancer or any other\\nillness, and that smoking is no more harmful\\nthan drinking coffee or eating Twinkies.\\n\\nThey said these things with straight faces.\\n\\nThey said them in the face of massive\\nscientific evidence that smoking is responsible\\nfor more than 400,000 deaths every year.\\n\\nRep. Henry Waxman, D-Calif., put that\\nfrightful statistic another way:\\n\\n“Imagine our nation’s outrage if two fully\\nloaded jumbo jets crashed each day, killing all\\naboard. That’s the same number of Americans\\nthat cigarettes kill every 24 hours.”\\n\\nThe CEOs were not impressed.\\n\\n“We have looked at the data... . It does\\nnot convince me that smoking causes death,”\\nsaid Andrew Tisch of the Lorillard Tobacco\\nCo.\\n\\n \\n\\n   \\n\\nSTEVE WILSON\\n\\nRepublic Columnist\\n\\nHe and the others played dumb for the\\nentire six hours, but it really didn’t matter.\\n\\nThe game is nearly over, and the tobacco\\nexecutives know it.\\n\\nThe hearing marked a turning point in the\\nnation’s growing aversion to cigarettes. No\\nlonger hamstrung by tobacco-state seniority\\nand the deep-pocketed tokacco lobby,\\nCongress is taking aim at cigarette makers.\\n\\n \\n\\nThe tobacco industry would like to promote\\nthe specter of prohibition.\\n\\n“If cigarettes are too dangerous to be sold,\\nthen ban them. Some smokers will obey the\\nlaw, but many will not. People will be selling\\ncigarettes out of the trunks of cars, cigarettes\\nmade by who knows who, made of who knows’\\nwhat,” said James Johnston of R.J. Reynolds.\\n\\nIt’s a ruse. He knows cigarettes are not\\ngoing to be banned, at least not in his lifetime.\\nWhat he really fears are new taxes, stronger\\nanti-smoking campaigns, further smoking\\nrestrictions, limits on secondhand smoke and\\nlimits on tar and nicotine.\\n\\nCollectively, these steps can accelerate the\\ncurrent 5 percent annual decline in cigarette\\nuse and turn the tobacco business from highly\\nprofitable to depressed.\\n\\nJohnson’s comment about cigarettes “made\\nof who knows what” was comical.\\n\\nThe day before the hearing, the tobacco\\ncompanies released a long-secret list of 599\\nadditives used in cigarettes. The companies\\nsaid all are certified by an “independent\\n\\n \\n\\npancl” of toxicologists as “not hazardous\\nunder the conditions they are used.”\\n\\nPeople not paid by the tobacco companies\\naren't so sure. The list includes several\\nsubstances the government does not allow in\\nfoods or classifies as potentially toxic. They\\ninclude ammonia, a pesticide called\\nmethoprene, and ethyl furoate, which has\\ncaused liver damage in rats.\\n\\nThe list “begs a number of important\\nquestions about the safety of these additives,”\\nsaid a joint statement from the American\\nLung, Cancer and Heart associations. The\\nstatement added that substances safe to eat\\naren't necessarily safe to inhale.\\n\\nThe 50-page list can be obtained free by\\ncalling 1-800-852-8749.\\n\\nHere are just the 44 ingredients that start\\nwith the letter “A”:\\n\\nAcetanisole, acetic acid, acetoin,\\nacetophenone, 6-acetoxydihydrotheaspirane,\\n2-acetyl-3-ethylpyrazine, 2-acetyl-5-\\nmethylfuran, acetylpyrazine, 2-acetylpyridine,\\n3-acetylpyridine, 2-acetylthiazole, aconitic\\n\\n \\n\\n \\n                                                                                                                                                                                                                                                                                      |\n",
      "|s3a://dev.johnsnowlabs.com/ocr/datasets/news.2B/0/8200_014.2B.tif| \\n\\nOccult-crime\\nexpert shines\\nlight on Satanism\\n\\nThe Toledo Blade\\n\\nTIFFIN, Ohio — Dale Griffis,\\nwho has emerged as one of the\\nnation’s leading experts on occult\\ncrime, returned home from the\\nmost historic case of his career\\nwishing there were no need for his\\nservices.\\n\\n“T personally would like to be\\nput out of business,” said the\\nformer Tiffin police captain, whose\\nwork, experts say, has changed the\\ncomplexion of occult-related activ-\\nity in both the court and class-\\nroom.\\n\\n“Yd like to have this whole\\nbizarre topic just go away.”\\n\\nGriffis, who has a degree in\\ncriminal justice, appeared on\\nABC-TV’s 20/20 in 1985. He now\\nis sought as lecturer and expert\\nwitness in occult trials across the\\ncountry.\\n\\nLast month, prosecutors in\\nJonesboro, Ark., called Griffis as\\nan expert witness in a triple-mur-\\nder trial that police and prosecu-\\ntors believe will redefine the\\ncourtroom treatment of occultism.\\nGriffis spent seven hours on the\\nwitness stand testifying that the\\n1993 slaying of three 8-year-old\\nboys — whose bodies were found\\nnaked, hogtied and battered —\\nwere rituals of human sacrifice,\\n\\nDeputy prosecutor John Fogle-\\nman called on Griffis to testify that\\nDamien Wayne Echols, 18, and\\nCurtis Jason Baldwin, 16, killed\\nthe second-graders while enacting\\noccult ideology. After leaving\\nJonesboro under armed guard,\\nGriffis returned home to watch the\\nverdicts on television, Echols was\\nsentenced to death by injection.\\nBaldwin was sentenced to life in\\nprison without parole.\\n\\nIt is frightening, Griffis said, to\\nrealize that those who kill under\\nthe guise of Satanic ideology do so\\nfor greater power and glory in hell.\\n\\n“In their bizarre belief package,\\n\\nthey are carrying these things out\\nfor their deity,” he said.\\n\\nRecently, Griffis held up two\\npictures in his home. One shows a\\nboy on an autopsy table. The other\\nshows his four young grandsons.\\n\\n“I do it for the kids,” he said\\nwith a pained expression.\\n\\nThe 57-year-old father of two\\ngrown daughters and a grown son\\nlives in Tiffin with his wife, Anne,\\nalthough his new career requires\\nhim to travel extensively.\\n\\nEven before retiring in 1986\\nafter 26 years on the Tiffin police\\nforce, he researched occult crime.\\n\\n“T went looking in the major\\ncities, trying to understand why\\nkids get so caught up in all of\\nthis,” he said. “It was scary, but\\nnow I know.”\\n\\nSgt. Dave Spaulding, in charge\\nof training sheriffs deputies in\\nMontgomery County, Ohio, credits\\nGriffis with “bringing credibility to\\nthe investigation of occult crime.”\\n\\n“He started doing his homework\\nin the late 1970s, when the rest of\\npeople in law enforcement were\\npooh-poohing any connection at\\nall,” Spaulding said.\\n\\nPhil Carlo, a researcher who\\nhad just spent three weeks behind\\nbars with “Night Stalker” Richard\\nRamirez — a Texas drifter con-\\nvicted of murdering 13 people in\\nthe Los Angeles area in the\\nmid-1980s —- called Griffis “the\\nforemost authority on the phenom-\\nenon of occultism, a walking\\nencyclopedia.”\\n\\nProfessor Carl Reschke of the\\nUniversity of Denver’s theology\\ndepartment said Griffis helped set\\na key precedent in the Arkansas\\ntrial.\\n\\n“Every effort was made to\\ndiscredit him,” Reschke said. “But\\nhere at long last is proof positive\\nthat satanic crime, occult-moti-\\nvated crime, has an ideological\\nbonding connection.”\\n\\n \\n\\n \\n                                                                                                                                                                                                                                                                                                                                                                                                                        |\n",
      "+-----------------------------------------------------------------+-------------------------------------------------------------------------------------------------------------------------------------------------------------------------------------------------------------------------------------------------------------------------------------------------------------------------------------------------------------------------------------------------------------------------------------------------------------------------------------------------------------------------------------------------------------------------------------------------------------------------------------------------------------------------------------------------------------------------------------------------------------------------------------------------------------------------------------------------------------------------------------------------------------------------------------------------------------------------------------------------------------------------------------------------------------------------------------------------------------------------------------------------------------------------------------------------------------------------------------------------------------------------------------------------------------------------------------------------------------------------------------------------------------------------------------------------------------------------------------------------------------------------------------------------------------------------------------------------------------------------------------------------------------------------------------------------------------------------------------------------------------------------------------------------------------------------------------------------------------------------------------------------------------------------------------------------------------------------------------------------------------------------------------------------------------------------------------------------------------------------------------------------------------------------------------------------------------------------------------------------------------------------------------------------------------------------------------------------------------------------------------------------------------------------------------------------------------------------------------------------------------------------------------------------------------------------------------------------------------------------------------------------------------------------------------------------------------------------------------------------------------------------------------------------------------------------------------------------------------------------------------------------------------------------------------------------------------------------------------------------------------------------------------------------------------------------------------------------------------------------------------------------------------------------------------------------------------------------------------------------------------------------------------------------------------------------------------------------------------------------------------------------------------------------------------------------------------------------------------------------------------------------------------------------------------------------------------------------------------------------------------------------------------------------------------------------------------------------------------------------------------------------------------------------------------------------------------------------------------------------------------------------------------------------------------------------------------------+\n",
      "only showing top 5 rows\n",
      "\n"
     ]
    }
   ],
   "source": [
    "results.select(\"path\", \"text\").show(5, False)"
   ]
  }
 ],
 "metadata": {
  "kernelspec": {
   "display_name": "Python 3 (ipykernel)",
   "language": "python",
   "name": "python3"
  },
  "language_info": {
   "codemirror_mode": {
    "name": "ipython",
    "version": 3
   },
   "file_extension": ".py",
   "mimetype": "text/x-python",
   "name": "python",
   "nbconvert_exporter": "python",
   "pygments_lexer": "ipython3",
   "version": "3.7.5"
  },
  "vscode": {
   "interpreter": {
    "hash": "e7370f93d1d0cde622a1f8e1c04877d8463912d04d973331ad4851f04de6915a"
   }
  }
 },
 "nbformat": 4,
 "nbformat_minor": 4
}
