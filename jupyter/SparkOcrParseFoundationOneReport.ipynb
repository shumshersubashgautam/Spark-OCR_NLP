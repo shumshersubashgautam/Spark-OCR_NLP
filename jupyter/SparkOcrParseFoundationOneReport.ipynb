{
 "cells": [
  {
   "cell_type": "markdown",
   "metadata": {},
   "source": [
    "# Example of parsing FoundationOne report using Spark OCR"
   ]
  },
  {
   "cell_type": "markdown",
   "metadata": {},
   "source": [
    "## Install spark-ocr python packge\n",
    "Need specify path to `spark-ocr-assembly-[version].jar` or `secret`"
   ]
  },
  {
   "cell_type": "code",
   "execution_count": 1,
   "metadata": {},
   "outputs": [],
   "source": [
    "secret = \"\"\n",
    "license = \"\"\n",
    "version = secret.split(\"-\")[0]\n",
    "spark_ocr_jar_path = \"../../target/scala-2.11\""
   ]
  },
  {
   "cell_type": "code",
   "execution_count": 2,
   "metadata": {},
   "outputs": [],
   "source": [
    "%%bash\n",
    "if python -c 'import google.colab' &> /dev/null; then\n",
    "    echo \"Run on Google Colab!\"\n",
    "    echo \"Install Open JDK\"\n",
    "    apt-get install -y openjdk-8-jdk-headless -qq > /dev/null\n",
    "    java -version\n",
    "fi"
   ]
  },
  {
   "cell_type": "code",
   "execution_count": 3,
   "metadata": {},
   "outputs": [],
   "source": [
    "import sys\n",
    "import os\n",
    "\n",
    "if 'google.colab' in sys.modules:\n",
    "  os.environ[\"JAVA_HOME\"] = \"/usr/lib/jvm/java-8-openjdk-amd64\"\n",
    "  os.environ[\"PATH\"] = os.environ[\"JAVA_HOME\"] + \"/bin:\" + os.environ[\"PATH\"]"
   ]
  },
  {
   "cell_type": "code",
   "execution_count": 4,
   "metadata": {},
   "outputs": [],
   "source": [
    "# install from PYPI using secret\n",
    "#%pip install spark-ocr==$version+spark30 --extra-index-url=https://pypi.johnsnowlabs.com/$secret --upgrade"
   ]
  },
  {
   "cell_type": "code",
   "execution_count": 5,
   "metadata": {},
   "outputs": [],
   "source": [
    "# or install from local path\n",
    "#%pip install --user ../../python/dist/spark-ocr-3.7.0+spark30.tar.gz"
   ]
  },
  {
   "cell_type": "markdown",
   "metadata": {},
   "source": [
    "## Initialization of spark session"
   ]
  },
  {
   "cell_type": "code",
   "execution_count": 6,
   "metadata": {},
   "outputs": [
    {
     "name": "stdout",
     "output_type": "stream",
     "text": [
      "Spark version: 3.2.1\n",
      "Spark NLP version: 4.0.0\n",
      "Spark NLP for Healthcare version: 4.0.0\n",
      "Spark OCR version: 4.0.0\n",
      "\n"
     ]
    },
    {
     "data": {
      "text/html": [
       "\n",
       "            <div>\n",
       "                <p><b>SparkSession - in-memory</b></p>\n",
       "                \n",
       "        <div>\n",
       "            <p><b>SparkContext</b></p>\n",
       "\n",
       "            <p><a href=\"http://172.18.0.1:4040\">Spark UI</a></p>\n",
       "\n",
       "            <dl>\n",
       "              <dt>Version</dt>\n",
       "                <dd><code>v3.2.1</code></dd>\n",
       "              <dt>Master</dt>\n",
       "                <dd><code>local[*]</code></dd>\n",
       "              <dt>AppName</dt>\n",
       "                <dd><code>Spark OCR</code></dd>\n",
       "            </dl>\n",
       "        </div>\n",
       "        \n",
       "            </div>\n",
       "        "
      ],
      "text/plain": [
       "<pyspark.sql.session.SparkSession at 0x7f819bdce310>"
      ]
     },
     "execution_count": 6,
     "metadata": {},
     "output_type": "execute_result"
    }
   ],
   "source": [
    "from pyspark.sql import SparkSession\n",
    "from sparkocr import start\n",
    "\n",
    "if license:\n",
    "    os.environ['JSL_OCR_LICENSE'] = license\n",
    "\n",
    "spark = start(secret=secret, jar_path=spark_ocr_jar_path)\n",
    "spark"
   ]
  },
  {
   "cell_type": "markdown",
   "metadata": {},
   "source": [
    "## Import OCR transformers"
   ]
  },
  {
   "cell_type": "code",
   "execution_count": 7,
   "metadata": {},
   "outputs": [],
   "source": [
    "from sparkocr.transformers import *\n",
    "from sparkocr.enums import *\n",
    "from pyspark.ml import PipelineModel"
   ]
  },
  {
   "cell_type": "markdown",
   "metadata": {},
   "source": [
    "## Define OCR transformers and pipeline"
   ]
  },
  {
   "cell_type": "code",
   "execution_count": 8,
   "metadata": {},
   "outputs": [],
   "source": [
    "def pipeline():\n",
    "    \n",
    "    # Transforrm PDF document to images per page\n",
    "    pdf_to_text = PdfToText()\n",
    "    pdf_to_text.setOutputCol(\"text\")\n",
    "    pdf_to_text.setSplitPage(False)\n",
    "    pdf_to_text.setSort(True)\n",
    "    pdf_to_text.setTextStripper(TextStripperType.PDF_LAYOUT_TEXT_STRIPPER)\n",
    "\n",
    "    genomic_parser = FoundationOneReportParser()\n",
    "    genomic_parser.setInputCol(\"text\")\n",
    "    genomic_parser.setOutputCol(\"genomics\")\n",
    "\n",
    "    \n",
    "    pipeline = PipelineModel(stages=[\n",
    "        pdf_to_text,\n",
    "        genomic_parser\n",
    "    ])\n",
    "    \n",
    "    return pipeline"
   ]
  },
  {
   "cell_type": "markdown",
   "metadata": {},
   "source": [
    "## Read PDF document as binary file"
   ]
  },
  {
   "cell_type": "code",
   "execution_count": 9,
   "metadata": {},
   "outputs": [],
   "source": [
    "import pkg_resources\n",
    "pdf_example = pkg_resources.resource_filename('sparkocr', 'resources/ocr/pdfs/genomics/3.pdf')\n",
    "pdf_example_df = spark.read.format(\"binaryFile\").load(pdf_example).cache()"
   ]
  },
  {
   "cell_type": "markdown",
   "metadata": {},
   "source": [
    "## Run OCR pipelines"
   ]
  },
  {
   "cell_type": "code",
   "execution_count": 10,
   "metadata": {},
   "outputs": [],
   "source": [
    "result = pipeline().transform(pdf_example_df).cache()"
   ]
  },
  {
   "cell_type": "markdown",
   "metadata": {},
   "source": [
    "## Display results"
   ]
  },
  {
   "cell_type": "code",
   "execution_count": 11,
   "metadata": {},
   "outputs": [
    {
     "name": "stdout",
     "output_type": "stream",
     "text": [
      "{\n",
      "  \"Appendix\" : {\n",
      "    \"dna_gene_list\" : [ \"ABL1\", \"ACVR1B\", \"AKT1\", \"AKT2\", \"AKT3\", \"ALK\", \"ALOX12B\", \"AMER1\", \"(FAM123B)\", \"APC\", \"AR\", \"ARAF\", \"ARFRP1\", \"ARID1A\", \"ASXL1\", \"ATM\", \"ATR\", \"ATRX\", \"AURKA\", \"AURKB\", \"AXIN1\", \"AXL\", \"BAP1\", \"BARD1\", \"BCL2\", \"BCL2L1\", \"BCL2L2\", \"BCL6\", \"BCOR\", \"BCORL1\", \"BRAF\", \"BRCA1\", \"BRCA2\", \"BRD4\", \"BRIP1\", \"BTG1\", \"BTG2\", \"BTK\", \"C11orf30\", \"(EMSY)\", \"C17orf39\", \"(GID4)\", \"CALR\", \"CARD11\", \"CASP8\", \"CBFB\", \"CBL\", \"CCND1\", \"CCND2\", \"CCND3\", \"CCNE1\", \"CD22\", \"CD274\", \"(PD-L1)\", \"CD70\", \"CD79A\", \"CD79B\", \"CDC73\", \"CDH1\", \"CDK12\", \"CDK4\", \"CDK6\", \"CDK8\", \"CDKN1A\", \"CDKN1B\", \"CDKN2A\", \"CDKN2B\", \"CDKN2C\", \"CEBPA\", \"CHEK1\", \"CHEK2\", \"CIC\", \"CREBBP\", \"CRKL\", \"CSF1R\", \"CSF3R\", \"CTCF\", \"CTNNA1\", \"CTNNB1\", \"CUL3\", \"CUL4A\", \"CXCR4\", \"CYP17A1\", \"DAXX\", \"DDR1\", \"DDR2\", \"DIS3\", \"DNMT3A\", \"DOT1L\", \"EED\", \"EGFR\", \"EP300\", \"EPHA3\", \"EPHB1\", \"EPHB4\", \"ERBB2\", \"ERBB3\", \"ERBB4\", \"ERCC4\", \"ERG\", \"ERRFI1\", \"ESR1\", \"EZH2\", \"FAM46C\", \"FANCA\", \"FANCC\", \"FANCG\", \"FANCL\", \"FAS\", \"FBXW7\", \"FGF10\", \"FGF12\", \"FGF14\", \"FGF19\", \"EGFR2\", \"FGFR3\", \"FGFR4\", \"FH\", \"FLCN\", \"FLT1\", \"FLT3\", \"FOXL2\", \"FUBP1\", \"GABRA6\", \"GATA3\", \"GATA4\", \"GATA6\", \"GNA11\", \"GNA13\", \"GNAQ\", \"GNAS\", \"GRM3\", \"GSK3B\", \"H3F3A\", \"HDAC1\", \"HGF\", \"HNF1A\", \"HRAS\", \"HSD3B1\", \"ID3\", \"IDH1\", \"IDH2\", \"IGF1R\", \"IKBKE\", \"IKZF1\", \"INPP4B\", \"IRF2\", \"IRF4\", \"IRS2\", \"JAK1\", \"JAK2\", \"JAK3\", \"JUN\", \"KDM5A\", \"KDM5C\", \"KDM6A\", \"KDR\", \"KEAP1\", \"KEL\", \"KIT\", \"KLHL6\", \"KMT2A\", \"(MLL)\", \"KMT2D\", \"(MLL2)\", \"KRAS\", \"LTK\", \"LYN\", \"MAF\", \"MAP2K1\", \"(MEK1)\", \"MAP2K2\", \"(MEK2)\", \"MAP2K4\", \"MAP3K1\", \"MAP3K13\", \"MAPK1\", \"MCL1\", \"MDM2\", \"MDM4\", \"MED12\", \"MEF2B\", \"MEN1\", \"MERTK\", \"MET\", \"MITF\", \"MKNK1\", \"MLH1\", \"MPL\", \"MRE11A\", \"MSH2\", \"MSH3\", \"MSH6\", \"MST1R\", \"MTAP\", \"MTOR\", \"P\", \"MYCL\", \"(MYCL1)\", \"MYCN\", \"MYD88\", \"NBN\", \"NF1\", \"NF2\", \"NFE2L2\", \"NFKBIA\", \"NKX2-1\", \"NOTCH1\", \"NOTCH2\", \"NOTCH3\", \"NPM1\", \"NRAS\", \"NT5C2\", \"NTRK1\", \"NTRK2\", \"NTRK3\", \"P2RY8\", \"PALB2\", \"PARK2\", \"PARP1\", \"PARP2\", \"PARP3\", \"PAX5\", \"PBRM1\", \"PDCD1\", \"(PD-1)\", \"PDCD1LG2\", \"(PD-L2)\", \"PDGFRA\", \"PDGFRB\", \"PDK1\", \"PIK3C2B\", \"PIK3C2G\", \"PIK3CA\", \"PIK3CB\", \"PIK3R1\", \"PIM1\", \"PMS2\", \"POLD1\", \"POLE\", \"PPARG\", \"PPP2R1A\", \"PPP2R2A\", \"PRDM1\", \"PRKAR1A\", \"PRKCI\", \"PTCH1\", \"PTEN\", \"PTPN11\", \"PTPRO\", \"QKI\", \"RAC1\", \"RAD21\", \"RAD51\", \"RAD51B\", \"RAD51C\", \"RAD51D\", \"RAD52\", \"RAD54L\", \"RAF1\", \"RARA\", \"RB1\", \"RBM10\", \"REL\", \"RET\", \"RICTOR\", \"RNF43\", \"ROS1\", \"RPTOR\", \"SDHA\", \"SDHB\", \"SDHC\", \"SDHD\", \"SETD2\", \"SF3B1\", \"SGK1\", \"SMAD2\", \"SMAD4\", \"SMARCA4\", \"SMARCB1\", \"SMO\", \"SNCAIP\", \"SOCS1\", \"SOX2\", \"SOX9\", \"SPEN\", \"SPOP\", \"SRC\", \"STAG2\", \"STAT3\", \"STK11\", \"SUFU\", \"SYK\", \"TBX3\", \"TEK\", \"TET2\", \"TGFBR2\", \"TIPARP\", \"TNFAIP3\", \"TNFRSF14\", \"TP53\", \"TSC1\", \"TSC2\", \"TYRO3\", \"U2AF1\", \"VEGFA\", \"VHL\", \"WHSC1\", \"WHSC1L1\", \"WT1\", \"XPO1\", \"XRCC2\", \"ZNF217\", \"ZNF703\" ],\n",
      "    \"dna_gene_list_rearrangement\" : [ \"ALK\", \"BCL2\", \"BCR\", \"BRAF\", \"BRCA1\", \"BRCA2\", \"CD74\", \"EGFR\", \"ETV4\", \"ETV5\", \"ETV6\", \"EWSR1\", \"EZR\", \"FGFR1\", \"FGFR2\", \"FGFR3\", \"KIT\", \"KMT2A\", \"(MLL)\", \"MSH2\", \"MYB\", \"MYC\", \"NOTCH2\", \"NTRK1\", \"NTRK2\", \"NUTM1\", \"PDGFRA\", \"RAF1\", \"RARA\", \"RET\", \"ROS1\", \"RSPO2\", \"SDC4\", \"SLC34A2\", \"TERC\", \"TERT\", \"TMPRSS2\" ],\n",
      "    \"additional_assays\" : [ \"Tumor Mutation  Burden  (TMB)\", \"Microsatellite  Status  (MS)\" ]\n",
      "  },\n",
      "  \"Biomarker_findings\" : [ {\n",
      "    \"name\" : \"Tumor Mutation Burden\",\n",
      "    \"state\" : \"TMB-Low (5Muts/Mb)\",\n",
      "    \"actionability\" : \"No therapies or clinical trials. \"\n",
      "  }, {\n",
      "    \"name\" : \"Microsatellite status\",\n",
      "    \"state\" : \"MS-Stable\",\n",
      "    \"actionability\" : \"No therapies or clinical trials. \"\n",
      "  } ],\n",
      "  \"Genomic_findings\" : [ {\n",
      "    \"name\" : \"MET\",\n",
      "    \"state\" : \"T263M\",\n",
      "    \"therapies_with_clinical_benefit_in_patient_tumor_type\" : [ \"Crizotinib\" ],\n",
      "    \"therapies_with_clinical_benefit_in_other_tumor_type\" : [ \"Cabozantinib\" ]\n",
      "  }, {\n",
      "    \"name\" : \"ERBB3\",\n",
      "    \"state\" : \"P1212S\",\n",
      "    \"therapies_with_clinical_benefit_in_patient_tumor_type\" : [ \"Afatinib\" ],\n",
      "    \"therapies_with_clinical_benefit_in_other_tumor_type\" : [ \"Trastuzumab-dkst\", \"Trastuzumab\", \"Pertuzumab\", \"Lapatinib\", \"Ado-trastuzumab emtansine\" ]\n",
      "  }, {\n",
      "    \"name\" : \"EGFR\",\n",
      "    \"state\" : \"amplification, exon 19 deletion\",\n",
      "    \"therapies_with_clinical_benefit_in_patient_tumor_type\" : [ \"Osimertinib\", \"Gefitinib\", \"Erlotinib\", \"Afatinib\" ],\n",
      "    \"therapies_with_clinical_benefit_in_other_tumor_type\" : [ \"Panitumumab\", \"Lapatinib\", \"Cetuximab\" ]\n",
      "  } ],\n",
      "  \"Patient\" : {\n",
      "    \"disease\" : \"Lung adenocarcinoma\",\n",
      "    \"name\" : null,\n",
      "    \"date_of_birth\" : null,\n",
      "    \"sex\" : null,\n",
      "    \"medical_record\" : null\n",
      "  },\n",
      "  \"Physician\" : {\n",
      "    \"ordering_physician\" : null,\n",
      "    \"medical_facility\" : null,\n",
      "    \"additional_recipient\" : null,\n",
      "    \"medical_facility_id\" : null,\n",
      "    \"pathologist\" : null\n",
      "  },\n",
      "  \"Specimen\" : {\n",
      "    \"specimen_site\" : null,\n",
      "    \"specimen_id\" : null,\n",
      "    \"specimen_type\" : null,\n",
      "    \"date_of_collection\" : null,\n",
      "    \"specimen_received\" : null\n",
      "  }\n",
      "}\n"
     ]
    }
   ],
   "source": [
    "print(result.select(\"genomics\").collect()[0].genomics)"
   ]
  },
  {
   "cell_type": "markdown",
   "metadata": {},
   "source": [
    "## Clear cache"
   ]
  },
  {
   "cell_type": "code",
   "execution_count": 12,
   "metadata": {},
   "outputs": [
    {
     "data": {
      "text/html": [
       "<table border='1'>\n",
       "<tr><th>path</th><th>modificationTime</th><th>length</th><th>text</th><th>positions</th><th>height_dimension</th><th>width_dimension</th><th>content</th><th>pagenum</th><th>genomics</th><th>exception</th></tr>\n",
       "<tr><td>file:/home/jose/....</td><td>2022-07-13 23:25:...</td><td>1260852</td><td>                 ...</td><td>null</td><td>792.0</td><td>612.0</td><td>null</td><td>0</td><td>{\\n  &quot;Appendix&quot; :...</td><td>null</td></tr>\n",
       "</table>\n"
      ],
      "text/plain": [
       "+--------------------+--------------------+-------+--------------------+---------+----------------+---------------+-------+-------+--------------------+---------+\n",
       "|                path|    modificationTime| length|                text|positions|height_dimension|width_dimension|content|pagenum|            genomics|exception|\n",
       "+--------------------+--------------------+-------+--------------------+---------+----------------+---------------+-------+-------+--------------------+---------+\n",
       "|file:/home/jose/....|2022-07-13 23:25:...|1260852|                 ...|     null|           792.0|          612.0|   null|      0|{\\n  \"Appendix\" :...|     null|\n",
       "+--------------------+--------------------+-------+--------------------+---------+----------------+---------------+-------+-------+--------------------+---------+"
      ]
     },
     "execution_count": 12,
     "metadata": {},
     "output_type": "execute_result"
    }
   ],
   "source": [
    "result.unpersist()"
   ]
  }
 ],
 "metadata": {
  "kernelspec": {
   "display_name": "Python 3 (ipykernel)",
   "language": "python",
   "name": "python3"
  },
  "language_info": {
   "codemirror_mode": {
    "name": "ipython",
    "version": 3
   },
   "file_extension": ".py",
   "mimetype": "text/x-python",
   "name": "python",
   "nbconvert_exporter": "python",
   "pygments_lexer": "ipython3",
   "version": "3.7.5"
  }
 },
 "nbformat": 4,
 "nbformat_minor": 2
}
