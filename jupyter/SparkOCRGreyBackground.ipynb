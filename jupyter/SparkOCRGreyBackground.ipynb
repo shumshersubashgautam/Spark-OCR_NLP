{
 "cells": [
  {
   "cell_type": "markdown",
   "metadata": {},
   "source": [
    "# OCR example for recogneze text from table with grey bacground for some cells\n",
    "## Install spark-ocr python packge\n",
    "Need specify path to `spark-ocr-assembly-[version].jar` or `secret`"
   ]
  },
  {
   "cell_type": "code",
   "execution_count": 2,
   "metadata": {},
   "outputs": [],
   "source": [
    "secret = \"\"\n",
    "license = \"\"\n",
    "version = secret.split(\"-\")[0]\n",
    "spark_ocr_jar_path = \"../../target/scala-2.11\""
   ]
  },
  {
   "cell_type": "code",
   "execution_count": 3,
   "metadata": {},
   "outputs": [],
   "source": [
    "%%bash\n",
    "if python -c 'import google.colab' &> /dev/null; then\n",
    "    echo \"Run on Google Colab!\"\n",
    "    echo \"Install Open JDK\"\n",
    "    apt-get install -y openjdk-8-jdk-headless -qq > /dev/null\n",
    "    export JAVA_HOME=\"/usr/lib/jvm/java-8-openjdk-amd64\"\n",
    "    export PATH=\"$JAVA_HOME/bin:$PATH\"\n",
    "    java -version\n",
    "fi"
   ]
  },
  {
   "cell_type": "code",
   "execution_count": 4,
   "metadata": {},
   "outputs": [],
   "source": [
    "import sys\n",
    "import os\n",
    "\n",
    "if 'google.colab' in sys.modules:\n",
    "  os.environ[\"JAVA_HOME\"] = \"/usr/lib/jvm/java-8-openjdk-amd64\"\n",
    "  os.environ[\"PATH\"] = os.environ[\"JAVA_HOME\"] + \"/bin:\" + os.environ[\"PATH\"]"
   ]
  },
  {
   "cell_type": "code",
   "execution_count": null,
   "metadata": {},
   "outputs": [],
   "source": [
    "# install from PYPI using secret\n",
    "#%pip install spark-ocr==$version+spark30 --extra-index-url=https://pypi.johnsnowlabs.com/$secret --upgrade"
   ]
  },
  {
   "cell_type": "code",
   "execution_count": null,
   "metadata": {},
   "outputs": [],
   "source": [
    "# or install from local path\n",
    "#%pip install ../../python/dist/spark-ocr-1.9.0.tar.gz"
   ]
  },
  {
   "cell_type": "markdown",
   "metadata": {},
   "source": [
    "## Initialization of spark session\n",
    "Need specify path to `spark-ocr-assembly-[version].jar` or `secret`"
   ]
  },
  {
   "cell_type": "code",
   "execution_count": 7,
   "metadata": {},
   "outputs": [
    {
     "name": "stdout",
     "output_type": "stream",
     "text": [
      "Spark version: 2.4.4\n",
      "Spark NLP version: 2.5.5\n",
      "Spark OCR version: 1.9.0\n",
      "\n"
     ]
    },
    {
     "data": {
      "text/html": [
       "\n",
       "            <div>\n",
       "                <p><b>SparkSession - in-memory</b></p>\n",
       "                \n",
       "        <div>\n",
       "            <p><b>SparkContext</b></p>\n",
       "\n",
       "            <p><a href=\"http://192.168.0.185:4042\">Spark UI</a></p>\n",
       "\n",
       "            <dl>\n",
       "              <dt>Version</dt>\n",
       "                <dd><code>v2.4.4</code></dd>\n",
       "              <dt>Master</dt>\n",
       "                <dd><code>local[*]</code></dd>\n",
       "              <dt>AppName</dt>\n",
       "                <dd><code>Spark OCR</code></dd>\n",
       "            </dl>\n",
       "        </div>\n",
       "        \n",
       "            </div>\n",
       "        "
      ],
      "text/plain": [
       "<pyspark.sql.session.SparkSession at 0x1186eda10>"
      ]
     },
     "execution_count": 7,
     "metadata": {},
     "output_type": "execute_result"
    }
   ],
   "source": [
    "from pyspark.sql import SparkSession\n",
    "from sparkocr import start\n",
    "\n",
    "if license:\n",
    "    os.environ['JSL_OCR_LICENSE'] = license\n",
    "\n",
    "spark = start(secret=secret, jar_path=spark_ocr_jar_path)\n",
    "spark"
   ]
  },
  {
   "cell_type": "markdown",
   "metadata": {},
   "source": [
    "## Imports"
   ]
  },
  {
   "cell_type": "code",
   "execution_count": 4,
   "metadata": {},
   "outputs": [],
   "source": [
    "from pyspark.ml import PipelineModel\n",
    "from pyspark.sql import functions as F\n",
    "\n",
    "from sparkocr.transformers import *\n",
    "from sparkocr.enums import *\n",
    "from sparkocr.utils import display_image\n",
    "from sparkocr.metrics import score"
   ]
  },
  {
   "cell_type": "markdown",
   "metadata": {},
   "source": [
    "## Define OCR transformers"
   ]
  },
  {
   "cell_type": "code",
   "execution_count": 5,
   "metadata": {},
   "outputs": [],
   "source": [
    "# Read binary as image\n",
    "binary_to_image = BinaryToImage()\n",
    "binary_to_image.setInputCol(\"content\")\n",
    "binary_to_image.setOutputCol(\"image\")\n",
    "\n",
    "# Scale image\n",
    "scaler = ImageScaler()\n",
    "scaler.setInputCol(\"image\")\n",
    "scaler.setOutputCol(\"scaled_image\")\n",
    "scaler.setScaleFactor(1.5)\n",
    "\n",
    "# Binarize using adaptive tresholding\n",
    "binarizer = ImageAdaptiveThresholding()\n",
    "binarizer.setInputCol(\"scaled_image\")\n",
    "binarizer.setOutputCol(\"binarized_image\")\n",
    "binarizer.setBlockSize(91)\n",
    "binarizer.setOffset(20)\n",
    "\n",
    "# Apply morphology opening\n",
    "opening = ImageMorphologyOperation()\n",
    "opening.setKernelShape(KernelShape.SQUARE)\n",
    "opening.setOperation(MorphologyOperationType.OPENING)\n",
    "opening.setKernelSize(2)\n",
    "opening.setInputCol(\"binarized_image\")\n",
    "opening.setOutputCol(\"opening_image\")\n",
    "\n",
    "# Remove small objects\n",
    "remove_objects = ImageRemoveObjects()\n",
    "remove_objects.setInputCol(\"binarized_image\")\n",
    "remove_objects.setOutputCol(\"corrected_image\")\n",
    "remove_objects.setMaxSizeObject(1000)\n",
    "remove_objects.setMinSizeObject(None)\n",
    "\n",
    "# Run OCR for each region\n",
    "ocr_corrected = ImageToText()\n",
    "ocr_corrected.setInputCol(\"corrected_image\")\n",
    "ocr_corrected.setOutputCol(\"text_corrected\")\n",
    "ocr_corrected.setPositionsCol(\"positions_corrected\")\n",
    "ocr_corrected.setConfidenceThreshold(75)\n",
    "\n",
    "ocr = ImageToText()\n",
    "ocr.setInputCol(\"image\")\n",
    "ocr.setOutputCol(\"text\")\n",
    "\n",
    "# OCR pipeline\n",
    "pipeline = PipelineModel(stages=[\n",
    "    binary_to_image,\n",
    "    scaler,\n",
    "    binarizer,\n",
    "    opening,\n",
    "    remove_objects,\n",
    "    ocr,\n",
    "    ocr_corrected\n",
    "])"
   ]
  },
  {
   "cell_type": "markdown",
   "metadata": {},
   "source": [
    "## Read image with noised background"
   ]
  },
  {
   "cell_type": "code",
   "execution_count": 6,
   "metadata": {},
   "outputs": [
    {
     "name": "stdout",
     "output_type": "stream",
     "text": [
      "+--------------------+-------------------+------+--------------------+\n",
      "|                path|   modificationTime|length|             content|\n",
      "+--------------------+-------------------+------+--------------------+\n",
      "|file:/Users/nmeln...|2020-02-12 05:57:15|177501|[FF D8 FF E0 00 1...|\n",
      "+--------------------+-------------------+------+--------------------+\n",
      "\n"
     ]
    }
   ],
   "source": [
    "import pkg_resources\n",
    "imagePath = \"data/images/grey_background.png\"\n",
    "image_df = spark.read.format(\"binaryFile\").load(imagePath).cache()\n",
    "image_df.show()"
   ]
  },
  {
   "cell_type": "markdown",
   "metadata": {},
   "source": [
    "## Run OCR pipelines"
   ]
  },
  {
   "cell_type": "code",
   "execution_count": 7,
   "metadata": {},
   "outputs": [],
   "source": [
    "result = pipeline \\\n",
    ".transform(image_df).cache()"
   ]
  },
  {
   "cell_type": "markdown",
   "metadata": {},
   "source": [
    "## Results of simple OCR"
   ]
  },
  {
   "cell_type": "code",
   "execution_count": 8,
   "metadata": {},
   "outputs": [
    {
     "name": "stdout",
     "output_type": "stream",
     "text": [
      " \n",
      "\n",
      " \n",
      "\n",
      " \n",
      "\n",
      "Question: “What would you do as a result of seeing this label posted on a new car's\n",
      "window? Mark all that apply’\n",
      "\n",
      " \n",
      "\n",
      " \n",
      "\n",
      " \n",
      "\n",
      " \n",
      "\n",
      " \n",
      "\n",
      " \n",
      "\n",
      " \n",
      "\n",
      " \n",
      "\n",
      " \n",
      "\n",
      " \n",
      "\n",
      " \n",
      "\n",
      " \n",
      "\n",
      " \n",
      "\n",
      "Vertical [Horizontal\n",
      "\n",
      "Sample size 233 223\n",
      "Write down the MPG rating(s) of the automobile 55% 57%\n",
      "Write down or record the particular datal was interested in | 53% 60%\n",
      "Visit the website for more information 45% 45%\n",
      "Write down the EPA-assigned grade of the automobile 43% x\n",
      "\n",
      "Scan the QR code (2-D barcode) with my smartphone 15% 13%\n",
      "Ignore the label and move on to other available information | 14% 7%\n",
      "Other 6% 2%\n",
      "\n",
      " \n",
      "\n",
      " \n",
      "\n",
      " \n",
      "\n",
      " \n",
      "\n"
     ]
    }
   ],
   "source": [
    "print(\"\\n\".join([row.text for row in result.select(\"text\").collect()]))"
   ]
  },
  {
   "cell_type": "markdown",
   "metadata": {},
   "source": [
    "## Results with preprocessing"
   ]
  },
  {
   "cell_type": "code",
   "execution_count": 9,
   "metadata": {},
   "outputs": [
    {
     "name": "stdout",
     "output_type": "stream",
     "text": [
      "Question: “What would you do as a result of seeing this label posted on a new car's\n",
      "window? Mark all that apply”.\n",
      "\n",
      "Vertical Horizontal\n",
      "\n",
      "Sample size 233 223\n",
      "Write down the MPG rating(s) of the automobile 55% 57%\n",
      "Write down or record the particular data | was interested in 53% 60%\n",
      "Visit the website for more information 45% 45%\n",
      "Write down the EPA-assigned grade of the automobile 43% Xx\n",
      "\n",
      "Scan the QR code (2-D barcode) with my smartphone 15% 13%\n",
      "(gnore the label and move on to other available information 14% 7%\n",
      "\n",
      "Other 6% 2%\n",
      "\n"
     ]
    }
   ],
   "source": [
    "print(\"\\n\".join([row.text_corrected for row in result.select(\"text_corrected\").collect()]))"
   ]
  },
  {
   "cell_type": "markdown",
   "metadata": {},
   "source": [
    "## Display original and corrected images"
   ]
  },
  {
   "cell_type": "code",
   "execution_count": 10,
   "metadata": {},
   "outputs": [
    {
     "name": "stdout",
     "output_type": "stream",
     "text": [
      "Original: file:/Users/nmelnik/IdeaProjects/spark-ocr/workshop/jupyter/data/images/grey_background.png\n",
      "Image:\n",
      "        origin: file:/Users/nmelnik/IdeaProjects/spark-ocr/workshop/jupyter/data/images/grey_background.png \n",
      "        width: 628\n",
      "        height: 335\n",
      "        mode: 10\n"
     ]
    },
    {
     "data": {
      "image/png": "[encoded data removed]",
      "text/plain": [
       "<PIL.Image.Image image mode=L size=628x335 at 0x1326D13D0>"
      ]
     },
     "metadata": {},
     "output_type": "display_data"
    },
    {
     "name": "stdout",
     "output_type": "stream",
     "text": [
      "Corrected: file:/Users/nmelnik/IdeaProjects/spark-ocr/workshop/jupyter/data/images/grey_background.png\n",
      "Image:\n",
      "        origin: file:/Users/nmelnik/IdeaProjects/spark-ocr/workshop/jupyter/data/images/grey_background.png \n",
      "        width: 942\n",
      "        height: 502\n",
      "        mode: 12\n"
     ]
    },
    {
     "data": {
      "image/png": "[encoded data removed]",
      "text/plain": [
       "<PIL.Image.Image image mode=1 size=942x502 at 0x132F3E950>"
      ]
     },
     "metadata": {},
     "output_type": "display_data"
    }
   ],
   "source": [
    "for r in result.distinct().collect():\n",
    "    print(\"Original: %s\" % r.path)\n",
    "    display_image(r.image)\n",
    "    print(\"Corrected: %s\" % r.path)\n",
    "    display_image(r.corrected_image)"
   ]
  },
  {
   "cell_type": "markdown",
   "metadata": {},
   "source": [
    "## Compute score and compare results"
   ]
  },
  {
   "cell_type": "code",
   "execution_count": 11,
   "metadata": {},
   "outputs": [],
   "source": [
    "original_text = \"\"\"Question: “What would you do as a result of seeing this label posted on a new car's\n",
    "window? Mark all that apply”.\n",
    "\n",
    "Vertical Horizontal\n",
    "Sample size 233 223\n",
    "Write down the MPG rating(s) of the automobile 55% 57%\n",
    "Write down or record the particular data I was interested in 53% 60%\n",
    "Visit the website for more information 45% 45%\n",
    "Write down the EPA-assigned grade of the automobile 43% X\n",
    "Scan the QR code (2-D barcode) with my smartphone 15% 13%\n",
    "Ignore the label and move on to other available information 14% 7%\n",
    "Other 6% 2%\n",
    "\"\"\""
   ]
  },
  {
   "cell_type": "code",
   "execution_count": 12,
   "metadata": {},
   "outputs": [
    {
     "name": "stdout",
     "output_type": "stream",
     "text": [
      "Score for simple Tesseract: 0.8130081300813008\n",
      "Score Spark NLP: 0.9847036328871893\n"
     ]
    }
   ],
   "source": [
    "detected = \"\\n\".join([row.text for row in result.collect()])\n",
    "detected_corrected = \"\\n\".join([row.text_corrected for row in result.collect()])\n",
    "\n",
    "# Compute scores\n",
    "tesseract_score = score(original_text, detected)\n",
    "corrected_score = score(original_text, detected_corrected)\n",
    "\n",
    "print(\"Score for simple Tesseract: {0}\".format(tesseract_score))\n",
    "print(\"Score Spark NLP: {0}\".format(corrected_score))"
   ]
  }
 ],
 "metadata": {
  "kernelspec": {
   "display_name": "Python 3",
   "language": "python",
   "name": "python3"
  },
  "language_info": {
   "codemirror_mode": {
    "name": "ipython",
    "version": 3
   },
   "file_extension": ".py",
   "mimetype": "text/x-python",
   "name": "python",
   "nbconvert_exporter": "python",
   "pygments_lexer": "ipython3",
   "version": "3.7.9"
  }
 },
 "nbformat": 4,
 "nbformat_minor": 2
}
